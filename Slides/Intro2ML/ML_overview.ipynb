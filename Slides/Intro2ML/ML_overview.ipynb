{
 "cells": [
  {
   "cell_type": "markdown",
   "metadata": {
    "collapsed": false
   },
   "source": [
    "# Introduction to Machine Learning\n",
    "\n",
    "In these notes we will introduce the basic definitions, notations and abstractions used in the course.\n",
    "\n",
    "First we give an overview of ML and then start exploring supervised learning in detail.\n",
    "\n"
   ]
  },
  {
   "cell_type": "markdown",
   "metadata": {
    "collapsed": false
   },
   "source": [
    "### What's learning?\n",
    "\n",
    "There is no official definition of what it means for a machine to learn.\n",
    "\n",
    "This is a philosophical question.\n",
    "\n",
    "But we can roughly say:  Performance should improve with experience.\n"
   ]
  },
  {
   "cell_type": "markdown",
   "metadata": {
    "collapsed": false
   },
   "source": [
    "### A motivating example: Cat recognition\n",
    "\n",
    "Consider the problem of determining whether an image contains a picture of a cat.\n",
    "\n",
    "A human being might try to give rules for recognizing a cat.\n",
    "\n",
    "But what would they be?\n",
    "\n",
    "They would be a complicated mess and probably not work very well.  \n",
    "\n",
    "We do not teach babies to recognize cats by giving them rules.\n",
    "\n",
    "We give them data:  lots of examples of cats.\n"
   ]
  },
  {
   "cell_type": "markdown",
   "metadata": {
    "collapsed": false
   },
   "source": [
    "[cat](https://external-content.duckduckgo.com/iu/?u=https%3A%2F%2Fi.redditmedia.com%2FjNFvI-jjCVq_7o-2LDDOBhLiT10SGz0Th48j0QGuR6c.jpg%3Fw%3D320%26s%3Df61235809979a6b5def841c38814b210&f=1&nofb=1)\n",
    "\n",
    "[cat?](https://external-content.duckduckgo.com/iu/?u=https%3A%2F%2Fi.ytimg.com%2Fvi%2FfeB5tm4wM5U%2Fmaxresdefault.jpg&f=1&nofb=1)\n",
    "\n",
    "[cat?](https://external-content.duckduckgo.com/iu/?u=https%3A%2F%2Ftse4.mm.bing.net%2Fth%3Fid%3DOIP.UBtefQmk8W6OKrC5Udl1wgHaD4%26pid%3DApi&f=1)"
   ]
  },
  {
   "cell_type": "markdown",
   "metadata": {
    "collapsed": false
   },
   "source": [
    "### Cat recognition cont.\n",
    "\n",
    "We want to do the same thing with a machine that we did with the baby.\n",
    "\n",
    "Namely:  Let the machine come up with its own model of cathood by seeing lots of sample images.\n",
    "\n",
    "Machine learning gives a framework for how to do this.\n",
    "\n",
    "Often we have no idea how the machine representation of cathood works, even though the learning procedure was designed by humans."
   ]
  },
  {
   "cell_type": "markdown",
   "metadata": {
    "collapsed": false
   },
   "source": [
    "### Basic problem types\n",
    "\n",
    "The problem we just described is a **classification** problem:\n",
    "\n",
    "There are two categories: cat and no-cat\n",
    "\n",
    "The problem is to take an image and classify it.\n",
    "\n",
    "That is, we want to assign the image to the right category.\n"
   ]
  },
  {
   "cell_type": "markdown",
   "metadata": {
    "collapsed": false
   },
   "source": [
    "### Classification problems\n",
    "\n",
    "Let $\\mathcal{X}$ denote the space of all images.\n",
    "\n",
    "For instance, $\\mathcal{X}$ might be all grayscale images with 256x256 pixels.\n",
    "\n",
    "We will assume that each element of $\\mathcal{X}$ is a vector, and denote elements of $\\mathcal{X}$ as $\\bar{x} \\in \\mathcal{X}$.\n",
    "\n",
    "Let $\\mathcal{Y}$ denote the possible classifications: $\\mathcal{Y} = \\{0,1\\}$\n",
    "\n",
    "where `1=cat` and `0=no cat`. \n",
    "\n",
    "Let $f: \\mathcal{X} \\rightarrow \\mathcal{Y}$ be the **ideal classifier**:  For every $\\bar{x} \\in \\mathcal{X}$, $f(x)$ is the correct classification for $\\bar{x}$.\n",
    "\n",
    "It is useful to talk about $f$ but we don't really understand it and probably can never find it.\n",
    "\n"
   ]
  },
  {
   "cell_type": "markdown",
   "metadata": {
    "collapsed": false
   },
   "source": [
    "### The hypothesis space\n",
    "\n",
    "We want to search for $f$ but we probably can't search the space of all functions from $\\mathcal{X}$ to $\\mathcal{Y}$, denoted ${}^\\mathcal{X}\\mathcal{Y}$.\n",
    "\n",
    "It's too big and unstructured.  \n",
    "\n",
    "If there are only 1000 images in $\\mathcal{X}$ then ${}^\\mathcal{X}\\mathcal{Y}$ already has cardinality $|\\mathcal{Y}|^{|\\mathcal{X}|} =  2^{1000}$.\n",
    "\n",
    "Making matters worse, there are, in reality, a virtually unlimited set of images. \n",
    "\n",
    "Rather than try to search brute force through ${}^\\mathcal{X}\\mathcal{Y}$, we propose a **hypothesis space** $\\mathcal{H} \\subseteq {}^\\mathcal{X}\\mathcal{Y}$.\n",
    "\n",
    "This is usually a \"nice\" set of functions that can be efficiently searched."
   ]
  },
  {
   "cell_type": "markdown",
   "metadata": {
    "collapsed": false
   },
   "source": [
    "### Wait... what's $\\mathcal{H}$?\n",
    "\n",
    "Exactly what $\\mathcal{H}$ is depends on the learning algorithm.\n",
    "\n",
    "When using linear classification, $\\mathcal{H}$ might be determined by linear functions.\n",
    "\n",
    "For example if $\\mathcal{X} = \\mathbb{R}^2$ and $\\mathcal{Y} = \\{0,1\\}$, we could have\n",
    "\n",
    "$\\mathcal{H} = \\{ [\\![ ax_1 + bx_2 + c > 0]\\!] : a,b,c \\in \\mathbb{R}\\}$\n",
    "\n",
    "where $[\\![P]\\!]$ is 0 if $P$ is false and 1 if $P$ is true.\n",
    "\n",
    "This is a family of functions from $\\mathcal{X} \\rightarrow \\mathcal{Y}$.\n"
   ]
  },
  {
   "cell_type": "markdown",
   "metadata": {
    "collapsed": false
   },
   "source": [
    "### Wait... what's $\\mathcal{H}$?\n",
    "\n",
    "When using neural networks, $\\mathcal{H}$ might be all functions that can be represented as a neural net of a certain size.\n",
    "\n",
    "In this class we will discuss many learning algorithms and describe their hypothesis spaces -- here we're just trying to give an abstract overview of **any** learning algorithm."
   ]
  },
  {
   "cell_type": "markdown",
   "metadata": {
    "collapsed": false
   },
   "source": [
    "### But what if $f$ is not in $\\mathcal{H}$?\n",
    "\n",
    "Almost certainly $f$, the ideal classifier, is not in $\\mathcal{H}$.  \n",
    "\n",
    "All we can hope to find is the $g \\in \\mathcal{H}$ that best approximates $f$.\n",
    "\n",
    "Exactly what \"best\" means and how exactly $\\mathcal{H}$ is searched depends on the learning algorithm $\\mathcal{A}$.\n",
    "\n",
    "Ideally we want the function in $\\mathcal{H}$ closest to $f$ when *all possible* images are considered.\n",
    "\n",
    "In practice we have to use only the data we own, and hope that our data is representative.\n"
   ]
  },
  {
   "cell_type": "markdown",
   "metadata": {
    "collapsed": false
   },
   "source": [
    "### Oh yeah, the data.  How does that fit in?\n",
    "\n",
    "Exactly what we do with the data depends on what kind of data we have.\n",
    "\n",
    "In a problem like cat classification, usually we have a set of **labeled examples**.\n",
    "\n",
    "That means we have a bunch of images, say $\\bar{x}_1,\\bar{x}_2,\\ldots,\\bar{x}_n$.\n",
    "\n",
    "Corresponding to each $\\bar{x}_i$ we also have a **label** $y_i \\in \\mathcal{Y}$ which tells us whether $\\bar{x}_i$ is an example of a cat, or a non-example of a cat.\n",
    "\n",
    "A dataset will typically contain both examples and non-examples.  They may or may not be proportionally represented.  Maybe most pictures in our dataset are **not** pictures of cats.\n"
   ]
  },
  {
   "cell_type": "markdown",
   "metadata": {
    "collapsed": false
   },
   "source": [
    "### The data tells us a little about $f$\n",
    "\n",
    "We can represent our dataset like this:\n",
    "\n",
    "$\\mathcal{D} = \\{(\\bar{x}_1,y_1),(\\bar{x}_1,y_1),\\ldots,(\\bar{x}_n,y_n)\\}$\n",
    "\n",
    "Usually we assume the labels are all correct.  This means that for all $i = 1,\\ldots,n$,\n",
    "\n",
    "$$f(\\bar{x}_i) = y_i$$\n",
    "\n",
    "In other words $\\mathcal{D}$ is like a finite sample from $f$."
   ]
  },
  {
   "cell_type": "markdown",
   "metadata": {
    "collapsed": false
   },
   "source": [
    "### An overview of learning\n",
    "\n",
    "We can now describe how machine learning basically works.\n",
    "\n",
    "There is something we want to learn, in this case the ideal cat classifier $f:\\mathcal{X}\\rightarrow \\mathcal{Y}$. \n",
    "\n",
    "We have a finite set of labeled examples of the way $f$ behaves.  This is the training data $\\mathcal{D}$. \n",
    "\n",
    "We decide on a hypothesis space $\\mathcal{H}$ which are the functions we will search for an approximation to $f$.\n",
    "\n",
    "The learning algorithm $\\mathcal{A}$ searches $\\mathcal{H}$ and produces a final hypothesis $g$.\n",
    "\n",
    "We hope that for randomly chosen images $\\bar{x}$, probably $g(\\bar{x}) = f(\\bar{x})$.\n",
    "\n"
   ]
  },
  {
   "cell_type": "markdown",
   "metadata": {
    "collapsed": false
   },
   "source": [
    "### A simple example: Perceptron learning\n",
    "\n",
    "The [perceptron](https://en.wikipedia.org/wiki/Perceptron) is an idea that dates back to 1958.  It is supposed to be somewhat like a single neuron.  Neural nets are made up of perceptrons.\n",
    "\n",
    "However here we will just focus on a single perceptron. \n",
    "\n",
    "In principle you could use a perceptron for our cat classification problem.\n",
    "\n",
    "When we describe the perceptron we will basically be explaining $\\mathcal{X},\\mathcal{Y},\\mathcal{H}$, and $\\mathcal{A}$.\n"
   ]
  },
  {
   "cell_type": "markdown",
   "metadata": {
    "collapsed": false
   },
   "source": [
    "### Perceptron learning: $\\mathcal{X}$ and $\\mathcal{Y}$\n",
    "\n",
    "The input space to a perceptron is $\\mathcal{X}=\\mathbb{R}^d$, where $\\mathbb{R}^d$ is $d$ dimensional Euclidean space.  \n",
    "\n",
    "We could write $\\bar{x} = [x_1,x_2,\\ldots,x_d]^T$ where the $x_i$ are real numbers.\n",
    "\n",
    "The meaning of $x_1,x_2,\\ldots,x_d$ depend on the features in the data (height, weight, shoe-size, etc.).\n",
    "\n",
    "We use the compact notation $[x_1,x_2,\\ldots,x_d]^T$ to represent a column vector as a row.\n",
    "\n",
    "\\begin{align}\n",
    "    [x_1,x_2,\\ldots,x_d]^T &= \\begin{bmatrix}\n",
    "           x_{1} \\\\\n",
    "           x_{2} \\\\\n",
    "           \\vdots \\\\\n",
    "           x_{d}\n",
    "         \\end{bmatrix}\n",
    "\\end{align}\n",
    "  \n",
    "There are two possible classifications, $\\mathcal{Y} = \\{+1,-1\\}$. \n"
   ]
  },
  {
   "cell_type": "markdown",
   "metadata": {
    "collapsed": false
   },
   "source": [
    "### Perceptrons\n",
    "\n",
    "The hypothesis space of perceptrons is built of of linear functions in variables $x_1,x_2,\\ldots,x_d$. For example if $d=2$, we might have\n",
    "\n",
    "$\\mathcal{H} = \\{sign(a+ bx_1 + cx_2) : a,b,c \\in \\mathbb{R}\\}$\n",
    "\n",
    "where sign is +1 for non-negative inputs and -1 for negative inputs.\n"
   ]
  },
  {
   "cell_type": "markdown",
   "metadata": {
    "collapsed": false
   },
   "source": [
    "### Perceptrons\n",
    "\n",
    "It would be convenient if we could represent $ax_1 + bx_2 + c$ as the dot product\n",
    "\n",
    "$$[a,b,c][1,x_1,x_2]^T=\n",
    "\\begin{align}\n",
    "    [a,b,c]  \\begin{bmatrix}\n",
    "           1 \\\\\n",
    "           x_{1} \\\\\n",
    "           x_{2}\n",
    "         \\end{bmatrix}\n",
    "\\end{align} = a+bx_1 + cx_2\n",
    "$$\n",
    "\n",
    "The advantage to doing this is so great that we will change $\\mathcal{X}$ a little bit to make it possible.  **We will assume that the first coordinate of all $\\bar{x} \\in \\mathcal{X}$ is 1.**  \n",
    "\n",
    "$\\mathcal{X} = \\{1\\}\\times\\mathbb{R}^d$\n",
    "\n",
    "This is called \"adding a bias column\"."
   ]
  },
  {
   "cell_type": "markdown",
   "metadata": {
    "collapsed": false
   },
   "source": [
    "### Perceptrons\n",
    "\n",
    "We can now express $\\mathcal{H}$ very concisely:\n",
    "\n",
    "$\\mathcal{H} = \\{ sign(\\bar{w}\\cdot \\bar{x}) : \\bar{w} \\in \\mathbb{R}^{d+1}\\}$\n",
    "\n",
    "where $\\displaystyle \\bar{w}\\cdot \\bar{x} = \\sum_{i=0}^d w_ix_i$ is the dot product, and $x_0=1$."
   ]
  },
  {
   "cell_type": "markdown",
   "metadata": {
    "collapsed": false
   },
   "source": [
    "### Boundaries\n",
    "\n",
    "Geometrically an $h \\in \\mathcal{H}$ divides $\\mathbb{R}^d$ into two parts:\n",
    "\n",
    "positive predictions:\n",
    "\n",
    "$$\\{\\bar{x}\\in\\mathbb{R}^d: h(1,\\bar{x})=+1\\}$$\n",
    "\n",
    "negative predictions:\n",
    "\n",
    "$$\\{\\bar{x}\\in\\mathbb{R}^d: h(1,\\bar{x})=-1\\}$$\n",
    "\n",
    "The separation between these two regions is called the **decision boundary**.\n"
   ]
  },
  {
   "cell_type": "markdown",
   "metadata": {
    "collapsed": false
   },
   "source": [
    "### Boundaries\n",
    "\n",
    "The perceptron is a linear model that creates \"flat\" decision boundaries.\n",
    "\n",
    "When $d=2$ the decision boundary is a line in $\\mathbb{R}^2$.\n",
    "\n",
    "When $d=3$ the decision boundary is a plane in $\\mathbb{R}^3$.\n",
    "\n",
    "For higher $d$ we say the boundary is a **hyperplane**.\n",
    "\n",
    "Algebraically a hyperplane in $\\mathbb{R}^d$ is just the set of solutions to the equation\n",
    "\n",
    "$$[1,x_1,x_2,\\ldots,x_d][w_0,w_1,\\ldots,w_d]^T = 0$$\n",
    "\n",
    "Geometrically it is a subset that divides the space into two convex parts.\n"
   ]
  },
  {
   "cell_type": "markdown",
   "metadata": {
    "collapsed": false
   },
   "source": [
    "### Let's see a boundary!\n",
    "\n",
    "Below we use matplotlib to look at some real boundaries when $d=2$.\n",
    "\n",
    "If you want to see \"under the hood\" you can look in the file called `mystuff.py` which is in this directory.\n"
   ]
  },
  {
   "cell_type": "code",
   "execution_count": 1,
   "metadata": {
    "collapsed": false
   },
   "outputs": [
    {
     "data": {
      "image/png": "[encoded data removed]",
      "text/plain": [
       "<Figure size 432x288 with 1 Axes>"
      ]
     },
     "execution_count": 1,
     "metadata": {
      "image/png": {
       "height": 277,
       "width": 384
      }
     },
     "output_type": "execute_result"
    }
   ],
   "source": [
    "import numpy as np\n",
    "import mystuff as ms\n",
    "\n",
    "\n",
    "X=np.array([]).reshape(0,3)\n",
    "y=np.array([])\n",
    "w = np.array([1,-2,3])\n",
    "ms.lin_boundary(w,X,y)"
   ]
  },
  {
   "cell_type": "markdown",
   "metadata": {
    "collapsed": false
   },
   "source": [
    "### Adding some data points\n",
    "\n",
    "Below we add some data to the plot.  \n",
    "\n",
    "There are some positive examples (blue) and negative examples (red).\n",
    "\n",
    "The boundary we have classifies them most data correctly (but not all).\n",
    "\n",
    "\"Learning\" in the sense of classification is finding the \"best\" boundary.\n"
   ]
  },
  {
   "cell_type": "code",
   "execution_count": 2,
   "metadata": {
    "collapsed": false
   },
   "outputs": [
    {
     "data": {
      "image/png": "[encoded data removed]",
      "text/plain": [
       "<Figure size 432x288 with 1 Axes>"
      ]
     },
     "execution_count": 2,
     "metadata": {
      "image/png": {
       "height": 277,
       "width": 384
      }
     },
     "output_type": "execute_result"
    }
   ],
   "source": [
    "N = 10\n",
    "mu_yes = [-2,0]\n",
    "sig_yes = 2\n",
    "X_yes=np.ones(3*N).reshape(N,3)\n",
    "X_yes[:,0] = np.ones(N)\n",
    "X_yes[:,1]=np.random.randn(N)*sig_yes+mu_yes[0]\n",
    "X_yes[:,2]=np.random.randn(N)*sig_yes+mu_yes[1]\n",
    "\n",
    "y_yes=np.ones(N)\n",
    "\n",
    "mu_no = [3,0]\n",
    "sig_no = 0.7\n",
    "X_no=np.ones(3*N).reshape(N,3)\n",
    "X_no[:,0] = np.ones(N)\n",
    "X_no[:,1]=np.random.randn(N)*sig_no+mu_no[0]\n",
    "X_no[:,2]=np.random.randn(N)*sig_no+mu_no[1]\n",
    "\n",
    "y_no=np.ones(N)*(-1)\n",
    "\n",
    "X = np.vstack((X_yes,X_no))\n",
    "y = np.hstack((y_yes,y_no))\n",
    "w = np.array([1,-2,3])\n",
    "ms.lin_boundary(w,X,y)\n"
   ]
  },
  {
   "cell_type": "code",
   "execution_count": 3,
   "metadata": {
    "collapsed": false
   },
   "outputs": [
    {
     "data": {
      "text/plain": [
       "array([[ 1.        , -1.0772671 , -2.13934413],\n",
       "       [ 1.        ,  0.67772068, -0.77271115],\n",
       "       [ 1.        ,  0.69720397, -3.65212875]])"
      ]
     },
     "execution_count": 3,
     "metadata": {
     },
     "output_type": "execute_result"
    }
   ],
   "source": [
    "#misclassified\n",
    "mc = np.sign(X.dot(w))!= y\n",
    "X[mc]"
   ]
  },
  {
   "cell_type": "markdown",
   "metadata": {
    "collapsed": false
   },
   "source": [
    "### Predictions\n",
    "\n",
    "The boundary is a way of visualizing the predictions that the algorithm $\\mathcal{A}$ will make on new instances that are not in $\\mathcal{D}$.\n",
    "\n",
    "Any $\\bar{x}$ that arises in the yellow region will be predicted as \"blue\" by $\\mathcal{A}$.\n",
    "\n",
    "Any $\\bar{x}$ that arises in the purple region will be predicted to be \"red\" by $\\mathcal{A}$. \n",
    "\n",
    "Hopefully this prediction will be true as often as possible.\n"
   ]
  },
  {
   "cell_type": "markdown",
   "metadata": {
    "collapsed": false
   },
   "source": [
    "### The Perceptron Learning Algorithm (PLA)\n",
    "\n",
    "We have seen from the above that the decision boundary made by a perceptron is determined by the weight vector $\\bar{w}\\in \\mathbb{R}^{d+1}$.\n",
    "\n",
    "The PLA works by finding progressively better $\\bar{w}$.\n",
    "\n",
    "There are a series of time steps $t=0,1,\\ldots$.\n",
    "\n",
    "At each time there is a weight vector $\\bar{w}_t$.\n",
    "\n",
    "The initial weights $\\bar{w}_0$ can be random, or the zero vector.\n",
    "\n"
   ]
  },
  {
   "cell_type": "markdown",
   "metadata": {
    "collapsed": false
   },
   "source": [
    "## The PLA update rule\n",
    "\n",
    "The heart of the PLA is how the weight vector is updated at each time step.\n",
    "\n",
    "The pseudocode for PLA is:\n",
    "\n",
    "1. Initialization: $t=0$, $\\bar{w}_0 = \\bar{0}$ \n",
    "2. While a misclassified instance $(\\bar{x},y)$ exists in $\\mathcal{D}$:\n",
    "3. $\\,\\,\\,\\,\\bar{w}_{t+1} = \\bar{w}_{t}+y\\bar{x}$\n",
    "4. $\\,\\,\\,\\,t = t+1$"
   ]
  },
  {
   "cell_type": "markdown",
   "metadata": {
    "collapsed": false
   },
   "source": [
    "### The PLA update rule\n",
    "\n",
    "Geometrically the update rule moves the decision boundary toward the misclassified point. \n",
    "\n",
    "It continues until there are no misclassified examples.\n",
    "\n",
    "For linearly separable data it always eventually terminates. \n",
    "\n",
    "1. Initialization: $t=0$, $\\bar{w}_0 = \\bar{0}$ \n",
    "2. While a misclassified instance $(\\bar{x},y)$ exists in $\\mathcal{D}$:\n",
    "3. $\\,\\,\\,\\,\\bar{w}_{t+1} = \\bar{w}_{t}+y\\bar{x}$\n",
    "4. $\\,\\,\\,\\,t = t+1$"
   ]
  },
  {
   "cell_type": "markdown",
   "metadata": {
    "collapsed": false
   },
   "source": [
    "### A worked example\n",
    "\n",
    "Below we write a little big of code to do one PLA update on some data.\n",
    "\n",
    "Notice that the update fixes the single misclassified point.\n"
   ]
  },
  {
   "cell_type": "code",
   "execution_count": 4,
   "metadata": {
    "collapsed": false
   },
   "outputs": [
    {
     "data": {
      "image/png": "[encoded data removed]",
      "text/plain": [
       "<Figure size 432x288 with 1 Axes>"
      ]
     },
     "execution_count": 4,
     "metadata": {
      "image/png": {
       "height": 277,
       "width": 384
      }
     },
     "output_type": "execute_result"
    }
   ],
   "source": [
    "np.random.seed(76)\n",
    "N = 2\n",
    "mu_yes = [-2,0]\n",
    "sig_yes = 2\n",
    "X_yes=np.ones(3*N).reshape(N,3)\n",
    "X_yes[:,0] = np.ones(N)\n",
    "X_yes[:,1]=np.random.randn(N)*sig_yes+mu_yes[0]\n",
    "X_yes[:,2]=np.random.randn(N)*sig_yes+mu_yes[1]\n",
    "\n",
    "y_yes=np.ones(N)\n",
    "\n",
    "mu_no = [3,0]\n",
    "sig_no = 0.7\n",
    "X_no=np.ones(3*N).reshape(N,3)\n",
    "X_no[:,0] = np.ones(N)\n",
    "X_no[:,1]=np.random.randn(N)*sig_no+mu_no[0]\n",
    "X_no[:,2]=np.random.randn(N)*sig_no+mu_no[1]\n",
    "\n",
    "y_no=np.ones(N)*(-1)\n",
    "\n",
    "X = np.vstack((X_yes,X_no))\n",
    "y = np.hstack((y_yes,y_no))\n",
    "w = np.array([1,-2,3])\n",
    "ms.lin_boundary(w,X,y)\n"
   ]
  },
  {
   "cell_type": "code",
   "execution_count": 5,
   "metadata": {
    "collapsed": false
   },
   "outputs": [
    {
     "data": {
      "text/plain": [
       "array([[ 1.        , -0.11939738, -2.11907271]])"
      ]
     },
     "execution_count": 5,
     "metadata": {
     },
     "output_type": "execute_result"
    }
   ],
   "source": [
    "#misclassified\n",
    "mc = np.sign(X.dot(w))!= y\n",
    "X[mc]"
   ]
  },
  {
   "cell_type": "code",
   "execution_count": 7,
   "metadata": {
    "collapsed": false
   },
   "outputs": [
    {
     "data": {
      "image/png": "[encoded data removed]",
      "text/plain": [
       "<Figure size 432x288 with 1 Axes>"
      ]
     },
     "execution_count": 7,
     "metadata": {
      "image/png": {
       "height": 277,
       "width": 384
      }
     },
     "output_type": "execute_result"
    }
   ],
   "source": [
    "badx = X[mc][0]\n",
    "bady = y[mc][0]\n",
    "w = w+bady*badx\n",
    "ms.lin_boundary(w,X,y)"
   ]
  },
  {
   "cell_type": "code",
   "execution_count": 8,
   "metadata": {
    "collapsed": false
   },
   "outputs": [
    {
     "data": {
      "text/plain": [
       "array([], shape=(0, 3), dtype=float64)"
      ]
     },
     "execution_count": 8,
     "metadata": {
     },
     "output_type": "execute_result"
    }
   ],
   "source": [
    "#misclassified\n",
    "mc = np.sign(X.dot(w))!= y\n",
    "X[mc]"
   ]
  },
  {
   "cell_type": "markdown",
   "metadata": {
    "collapsed": false
   },
   "source": [
    "### What if the data is not linearly separable?\n",
    "\n",
    "If the data is not linearly separable then the algorithm will never terminate.\n",
    "\n",
    "This is obvious because the set of misclassified points can by definition never be empty.\n",
    "\n",
    "As long as a single point is misclassified, the algorithm keeps going.\n",
    "\n",
    "We give an example of this below.\n"
   ]
  },
  {
   "cell_type": "code",
   "execution_count": 9,
   "metadata": {
    "collapsed": false,
    "scrolled": true
   },
   "outputs": [
    {
     "data": {
      "image/png": "[encoded data removed]",
      "text/plain": [
       "<Figure size 432x288 with 1 Axes>"
      ]
     },
     "execution_count": 9,
     "metadata": {
      "image/png": {
       "height": 277,
       "width": 384
      }
     },
     "output_type": "execute_result"
    }
   ],
   "source": [
    "np.random.seed(19191)\n",
    "N = 4\n",
    "mu_yes = [-2,0]\n",
    "sig_yes = 2\n",
    "X_yes=np.ones(3*N).reshape(N,3)\n",
    "X_yes[:,0] = np.ones(N)\n",
    "X_yes[:,1]=np.random.randn(N)*sig_yes+mu_yes[0]\n",
    "X_yes[:,2]=np.random.randn(N)*sig_yes+mu_yes[1]\n",
    "\n",
    "y_yes=np.ones(N)\n",
    "\n",
    "mu_no = [3,0]\n",
    "sig_no = 1.5\n",
    "X_no=np.ones(3*N).reshape(N,3)\n",
    "X_no[:,0] = np.ones(N)\n",
    "X_no[:,1]=np.random.randn(N)*sig_no+mu_no[0]\n",
    "X_no[:,2]=np.random.randn(N)*sig_no+mu_no[1]\n",
    "\n",
    "y_no=np.ones(N)*(-1)\n",
    "\n",
    "X = np.vstack((X_yes,X_no))\n",
    "y = np.hstack((y_yes,y_no))\n",
    "w = np.array([1,-2,3])\n",
    "ms.lin_boundary(w,X,y)\n"
   ]
  },
  {
   "cell_type": "code",
   "execution_count": 10,
   "metadata": {
    "collapsed": false
   },
   "outputs": [
    {
     "data": {
      "text/plain": [
       "array([[ 1.        , -1.58159474, -2.90885798],\n",
       "       [ 1.        ,  0.97402525,  0.4954294 ]])"
      ]
     },
     "execution_count": 10,
     "metadata": {
     },
     "output_type": "execute_result"
    }
   ],
   "source": [
    "#misclassified\n",
    "mc = np.sign(X.dot(w))!= y\n",
    "X[mc]"
   ]
  },
  {
   "cell_type": "code",
   "execution_count": 11,
   "metadata": {
    "collapsed": false
   },
   "outputs": [
    {
     "data": {
      "image/png": "[encoded data removed]",
      "text/plain": [
       "<Figure size 432x288 with 1 Axes>"
      ]
     },
     "execution_count": 11,
     "metadata": {
      "image/png": {
       "height": 277,
       "width": 384
      }
     },
     "output_type": "execute_result"
    }
   ],
   "source": [
    "badx = X[mc][0]\n",
    "bady = y[mc][0]\n",
    "w = w+bady*badx\n",
    "ms.lin_boundary(w,X,y)"
   ]
  },
  {
   "cell_type": "code",
   "execution_count": 12,
   "metadata": {
    "collapsed": false
   },
   "outputs": [
    {
     "data": {
      "text/plain": [
       "array([[ 1.        ,  2.61879316,  2.1669837 ],\n",
       "       [ 1.        , -0.7647271 , -1.65228359]])"
      ]
     },
     "execution_count": 12,
     "metadata": {
     },
     "output_type": "execute_result"
    }
   ],
   "source": [
    "#misclassified\n",
    "mc = np.sign(X.dot(w))!= y\n",
    "X[mc]"
   ]
  },
  {
   "cell_type": "code",
   "execution_count": 13,
   "metadata": {
    "collapsed": false
   },
   "outputs": [
    {
     "data": {
      "image/png": "[encoded data removed]",
      "text/plain": [
       "<Figure size 432x288 with 1 Axes>"
      ]
     },
     "execution_count": 13,
     "metadata": {
      "image/png": {
       "height": 277,
       "width": 384
      }
     },
     "output_type": "execute_result"
    }
   ],
   "source": [
    "badx = X[mc][0]\n",
    "bady = y[mc][0]\n",
    "w = w+bady*badx\n",
    "ms.lin_boundary(w,X,y)"
   ]
  },
  {
   "cell_type": "code",
   "execution_count": 14,
   "metadata": {
    "collapsed": false
   },
   "outputs": [
    {
     "data": {
      "text/plain": [
       "array([[ 1.        , -1.58159474, -2.90885798],\n",
       "       [ 1.        ,  0.97402525,  0.4954294 ],\n",
       "       [ 1.        ,  2.82539962,  0.24628874],\n",
       "       [ 1.        , -0.7647271 , -1.65228359]])"
      ]
     },
     "execution_count": 14,
     "metadata": {
     },
     "output_type": "execute_result"
    }
   ],
   "source": [
    "#misclassified\n",
    "mc = np.sign(X.dot(w))!= y\n",
    "X[mc]"
   ]
  },
  {
   "cell_type": "markdown",
   "metadata": {
    "collapsed": false
   },
   "source": [
    "###  Other kinds of learning\n",
    "\n",
    "In the discussion until now we have discussed a very particular kind of learning.\n",
    "\n",
    "1. Supervised (labels are known)\n",
    "    1. Batch (because all data available at start)\n",
    "        1. Classification (because $\\mathcal{Y}$ is discrete)\n",
    "            1. Binary classification (because $|\\mathcal{Y}|=2$)\n",
    "\n",
    "Below we give some definitions that sketch out the more general landscape of ML.\n",
    "\n"
   ]
  },
  {
   "cell_type": "markdown",
   "metadata": {
    "collapsed": false
   },
   "source": [
    "### Batch vs Online learning\n",
    "\n",
    "Often all data is available at the start of a ML project.  \n",
    "\n",
    "In other words $\\mathcal{D}$ is complete and does not change.  \n",
    "\n",
    "This is called **batch** learning.  \n",
    "\n",
    "In another scenario $\\mathcal{D}$ might be constantly growing as additional data points are added.\n",
    "\n",
    "This idea is called **online** learning.  \n",
    "\n",
    "In online learning you often talk about \"mistake bounds\":  The maximum number of times the algorithm will make a wrong prediction.  \n",
    "\n",
    "In most real ML applications the dataset gets enlarged from time to time and you have to retrain everything. "
   ]
  },
  {
   "cell_type": "markdown",
   "metadata": {
    "collapsed": false
   },
   "source": [
    "### Supervised vs Unsupervised learning\n",
    "\n",
    "For the work we did above our dataset $\\mathcal{D}$ included labels.  \n",
    "\n",
    "That is, $\\mathcal{D}$ consists of pairs $(\\bar{x},y)$ where\n",
    "\n",
    "$$f(x)=y$$\n",
    "\n",
    "This is called **supervised learning**.\n",
    "\n",
    "Often the correct labels are painstakingly provided by humans (Taskrabbit, Mechanical Turk). \n"
   ]
  },
  {
   "cell_type": "markdown",
   "metadata": {
    "collapsed": false
   },
   "source": [
    "### Unsupervised learning\n",
    "\n",
    "However you might have unlabeled data.  \n",
    "\n",
    "You should still be able to extract information from this data (called **unsupervised learning**).\n",
    "\n",
    "For example a bunch of datapoints $\\bar{x}_1,\\bar{x}_2,\\ldots,\\bar{x}_n$ gives information about the probability distribution $P(\\mathcal{X}=\\bar{x})$ that \"generates\" the data.\n",
    "\n",
    "There might also be natural clusters in the data that you can discover.\n",
    "\n",
    "You can try to reduce the dimensionality of the data and create various visualizations."
   ]
  },
  {
   "cell_type": "markdown",
   "metadata": {
    "collapsed": false
   },
   "source": [
    "### Classification vs Regression\n",
    "\n",
    "In the example we did above we used $\\mathcal{Y} = \\{-1,1\\}$.\n",
    "\n",
    "In **classification** $\\mathcal{Y}$ is discrete and almost always finite. \n",
    "\n",
    "In **regression** $\\mathcal{Y}$ may take on a continuous range of values. \n",
    "\n",
    "For example $\\mathcal{X}$ may describe the vital stats of various toddlers.  Then $\\mathcal{Y}$ might be the height of the toddler at age 30.  "
   ]
  },
  {
   "cell_type": "markdown",
   "metadata": {
    "collapsed": false
   },
   "source": [
    "### Regression\n",
    "\n",
    "Regression retains the same basic setup as classification.\n",
    "\n",
    "It is still a form of supervised learning. \n",
    "\n",
    "There is still an ideal $f:\\mathcal{X} \\rightarrow \\mathcal{Y}$ that we want to learn.\n",
    "\n",
    "There is still a hypothesis space $\\mathcal{H}$ of functions $h:\\mathcal{X} \\rightarrow \\mathcal{Y}$.\n",
    "\n",
    "The plan is still to somehow find the $g \\in \\mathcal{H}$ that best approximates $f$.\n",
    "\n",
    "Often the same algorithm can be used for classification or regression with only minor changes.  "
   ]
  },
  {
   "cell_type": "markdown",
   "metadata": {
    "collapsed": false
   },
   "source": [
    "### Multiclass classification\n",
    "\n",
    "In the cat example and the work with the perceptron we did **binary classification**.\n",
    "\n",
    "In other words we wanted to map each instance into one of two categories.\n",
    "\n",
    "Sometimes the problem might be to predict which of several discrete categories an instance $\\bar{x}$ belongs to.  This is called **multiclass classification**.\n",
    "\n",
    "For example you might want to take data about a piece of meat and classify it as \"Grade A\", \"Grade B\", \"Grade C\" or \"Grade F (reject)\".\n",
    "\n",
    "You might also think about automatically classifying sprains from radiological images.\n"
   ]
  },
  {
   "cell_type": "markdown",
   "metadata": {
    "collapsed": false
   },
   "source": [
    "###  Multiclass classification\n",
    "\n",
    "There are generic techniques which we will discuss later for extending binary classifiers to multiclass classifiers.\n",
    "\n",
    "Some algorithms, for example neural nets, \"naturally\" support multiclass classification. \n"
   ]
  },
  {
   "cell_type": "code",
   "execution_count": 0,
   "metadata": {
    "collapsed": false
   },
   "outputs": [
   ],
   "source": [
   ]
  }
 ],
 "metadata": {
  "kernelspec": {
   "display_name": "Python 3 (system-wide)",
   "language": "python",
   "metadata": {
    "cocalc": {
     "description": "Python 3 programming language",
     "priority": 100,
     "url": "https://www.python.org/"
    }
   },
   "name": "python3"
  },
  "language_info": {
   "codemirror_mode": {
    "name": "ipython",
    "version": 3
   },
   "file_extension": ".py",
   "mimetype": "text/x-python",
   "name": "python",
   "nbconvert_exporter": "python",
   "pygments_lexer": "ipython3",
   "version": "3.6.9"
  }
 },
 "nbformat": 4,
 "nbformat_minor": 0
}