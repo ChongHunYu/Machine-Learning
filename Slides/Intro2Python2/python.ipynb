{
 "cells": [
  {
   "cell_type": "markdown",
   "metadata": {
    "collapsed": false
   },
   "source": [
    "#### More intro to python...\n",
    "\n",
    "We continue where we left off in the previous intro worksheet.\n",
    "\n",
    "The following is a *try-except* block.  \n",
    "\n",
    "You use it when you want to do something you know might not work.\n",
    "\n",
    "This snippet uses the built-in **index** function.\n"
   ]
  },
  {
   "cell_type": "code",
   "execution_count": 1,
   "metadata": {
    "cocalc": {
     "outputs": {
      "0": {
       "name": "input",
       "opts": {
        "password": false,
        "prompt": ""
       },
       "output_type": "stream",
       "value": "5"
      }
     }
    },
    "collapsed": false
   },
   "outputs": [
    {
     "name": "stdout",
     "output_type": "stream",
     "text": " 5"
    },
    {
     "name": "stdout",
     "output_type": "stream",
     "text": [
      "Uh oh, not there.\n"
     ]
    }
   ],
   "source": [
    "L = [\"1\",\"2\",\"3\"]\n",
    "a = input()\n",
    "try:\n",
    "    print(\"The index of {} in L is {}\".format(a,L.index(a)))\n",
    "except:\n",
    "    print(\"Uh oh, not there.\")"
   ]
  },
  {
   "cell_type": "markdown",
   "metadata": {
    "collapsed": false
   },
   "source": [
    "#### Dictionaries\n",
    "\n",
    "Python has a built-in associative array type called a `dict`.  This is similar to `map` in the C++ standard library.\n",
    "\n",
    "It is based on key value pairs.  \n",
    "\n",
    "In a standard array (or list) you can think of indexes as _keys_ and the array element at the indexed location as the _value_.\n",
    "\n",
    "For example if we do:\n",
    "\n",
    "    L = ['a','b','c','banana']\n",
    "    \n",
    "Then for the key 3, the value is 'banana'.  The rule for access is:\n",
    "    \n",
    "    L[key] == value\n",
    "\n",
    "Dictionaries are similar. The difference is that they keys do not have to be integers. They can be any \"[hashable](https://stackoverflow.com/questions/14535730/what-do-you-mean-by-hashable-in-python)\" object.\n",
    "\n",
    "Here are some examples.\n"
   ]
  },
  {
   "cell_type": "code",
   "execution_count": 57,
   "metadata": {
    "collapsed": false
   },
   "outputs": [
    {
     "data": {
      "text/plain": [
       "{3.14: 'pi', 2.71: 'e'}"
      ]
     },
     "execution_count": 57,
     "metadata": {
     },
     "output_type": "execute_result"
    }
   ],
   "source": [
    "D = dict()\n",
    "D[3.14] = \"pi\"\n",
    "D[2.71] = \"e\"\n",
    "D"
   ]
  },
  {
   "cell_type": "markdown",
   "metadata": {
    "collapsed": false
   },
   "source": [
    "If you know JSON format you will recognize the similarity to the presentation of the dictionary `D`.\n",
    "In python it is very easy to go from dictionaries to JSON and back again.\n",
    "This might be relevant at some point if we need to load JSON data.\n"
   ]
  },
  {
   "cell_type": "code",
   "execution_count": 4,
   "metadata": {
    "collapsed": false
   },
   "outputs": [
    {
     "data": {
      "text/plain": [
       "'pi'"
      ]
     },
     "execution_count": 4,
     "metadata": {
     },
     "output_type": "execute_result"
    }
   ],
   "source": [
    "D[3.14]"
   ]
  },
  {
   "cell_type": "code",
   "execution_count": 5,
   "metadata": {
    "collapsed": false
   },
   "outputs": [
   ],
   "source": [
    "## Exercise:\n",
    "\n",
    "##  Try to find the value in D for a key that doesn't exist (eg 5)."
   ]
  },
  {
   "cell_type": "code",
   "execution_count": 6,
   "metadata": {
    "collapsed": false
   },
   "outputs": [
    {
     "data": {
      "text/plain": [
       "dict_keys([3.14, 2.71])"
      ]
     },
     "execution_count": 6,
     "metadata": {
     },
     "output_type": "execute_result"
    }
   ],
   "source": [
    "D.keys()"
   ]
  },
  {
   "cell_type": "code",
   "execution_count": 7,
   "metadata": {
    "collapsed": false
   },
   "outputs": [
    {
     "data": {
      "text/plain": [
       "dict_items([(3.14, 'pi'), (2.71, 'e')])"
      ]
     },
     "execution_count": 7,
     "metadata": {
     },
     "output_type": "execute_result"
    }
   ],
   "source": [
    "D.items()"
   ]
  },
  {
   "cell_type": "code",
   "execution_count": 8,
   "metadata": {
    "collapsed": false
   },
   "outputs": [
    {
     "data": {
      "text/plain": [
       "dict_values(['pi', 'e'])"
      ]
     },
     "execution_count": 8,
     "metadata": {
     },
     "output_type": "execute_result"
    }
   ],
   "source": [
    "D.values()"
   ]
  },
  {
   "cell_type": "code",
   "execution_count": 9,
   "metadata": {
    "collapsed": false
   },
   "outputs": [
    {
     "name": "stdout",
     "output_type": "stream",
     "text": [
      "3.14\n",
      "2.71\n"
     ]
    }
   ],
   "source": [
    "#By default iteration is over keys\n",
    "for d in D:\n",
    "    print(d)"
   ]
  },
  {
   "cell_type": "code",
   "execution_count": 58,
   "metadata": {
    "collapsed": false
   },
   "outputs": [
    {
     "name": "stdout",
     "output_type": "stream",
     "text": [
      "3.14 is the key for the value pi\n",
      "2.71 is the key for the value e\n"
     ]
    }
   ],
   "source": [
    "# But you can also iterate over key,value pairs, aka items.\n",
    "for e,d in D.items():\n",
    "    print(f\"{e} is the key for the value {d}\")"
   ]
  },
  {
   "cell_type": "code",
   "execution_count": 59,
   "metadata": {
    "collapsed": false
   },
   "outputs": [
    {
     "data": {
      "text/plain": [
       "{'pi': 3.14, 'e': 2.71}"
      ]
     },
     "execution_count": 59,
     "metadata": {
     },
     "output_type": "execute_result"
    }
   ],
   "source": [
    "# Exercise\n",
    "\n",
    "##  Create the inverse dictionary E of D.\n",
    "## That is, where D[key] = value, have E[value] = key.\n",
    "E = dict()\n",
    "for key,val in D.items():\n",
    "    E[val] = key\n",
    "E    \n"
   ]
  },
  {
   "cell_type": "markdown",
   "metadata": {
    "collapsed": false
   },
   "source": [
    "You will often see dictionaries defined in the following way:\n",
    "    "
   ]
  },
  {
   "cell_type": "code",
   "execution_count": 12,
   "metadata": {
    "collapsed": false
   },
   "outputs": [
    {
     "data": {
      "text/plain": [
       "{'hey': 'nonny', 'hi': 'ninny', 'ho': 'monny'}"
      ]
     },
     "execution_count": 12,
     "metadata": {
     },
     "output_type": "execute_result"
    }
   ],
   "source": [
    "F = {\"hey\":\"nonny\", \"hi\":\"ninny\", \"ho\":\"monny\"}\n",
    "F"
   ]
  },
  {
   "cell_type": "markdown",
   "metadata": {
    "collapsed": false
   },
   "source": [
    "One common use of a dictionary in data applications is to specify a pandas dataframe."
   ]
  },
  {
   "cell_type": "code",
   "execution_count": 13,
   "metadata": {
    "collapsed": false
   },
   "outputs": [
    {
     "data": {
      "text/html": [
       "<div>\n",
       "<style scoped>\n",
       "    .dataframe tbody tr th:only-of-type {\n",
       "        vertical-align: middle;\n",
       "    }\n",
       "\n",
       "    .dataframe tbody tr th {\n",
       "        vertical-align: top;\n",
       "    }\n",
       "\n",
       "    .dataframe thead th {\n",
       "        text-align: right;\n",
       "    }\n",
       "</style>\n",
       "<table border=\"1\" class=\"dataframe\">\n",
       "  <thead>\n",
       "    <tr style=\"text-align: right;\">\n",
       "      <th></th>\n",
       "      <th>a</th>\n",
       "      <th>b</th>\n",
       "      <th>c</th>\n",
       "    </tr>\n",
       "  </thead>\n",
       "  <tbody>\n",
       "    <tr>\n",
       "      <th>0</th>\n",
       "      <td>1</td>\n",
       "      <td>4</td>\n",
       "      <td>7</td>\n",
       "    </tr>\n",
       "    <tr>\n",
       "      <th>1</th>\n",
       "      <td>2</td>\n",
       "      <td>5</td>\n",
       "      <td>8</td>\n",
       "    </tr>\n",
       "    <tr>\n",
       "      <th>2</th>\n",
       "      <td>3</td>\n",
       "      <td>6</td>\n",
       "      <td>9</td>\n",
       "    </tr>\n",
       "  </tbody>\n",
       "</table>\n",
       "</div>"
      ]
     },
     "execution_count": 13,
     "metadata": {
     },
     "output_type": "execute_result"
    }
   ],
   "source": [
    "import pandas as pd\n",
    "\n",
    "data = {'a':[1,2,3],'b':[4,5,6],'c':[7,8,9]}\n",
    "df = pd.DataFrame(data)\n",
    "df"
   ]
  },
  {
   "cell_type": "markdown",
   "metadata": {
    "collapsed": false
   },
   "source": [
   ]
  },
  {
   "cell_type": "markdown",
   "metadata": {
    "collapsed": false
   },
   "source": [
    "#### Sets \n",
    "\n",
    "As the name suggests, a set is an unordered list.  It can handle set theoretic operations (union, intersection, etc).\n",
    "\n"
   ]
  },
  {
   "cell_type": "code",
   "execution_count": 8,
   "metadata": {
    "collapsed": false
   },
   "outputs": [
    {
     "data": {
      "text/plain": [
       "{1, 2, 3}"
      ]
     },
     "execution_count": 8,
     "metadata": {
     },
     "output_type": "execute_result"
    }
   ],
   "source": [
    "L = [1,2,3,3,3,3]\n",
    "S = set(L)\n",
    "S"
   ]
  },
  {
   "cell_type": "code",
   "execution_count": 11,
   "metadata": {
    "collapsed": false
   },
   "outputs": [
    {
     "data": {
      "text/plain": [
       "{2, 3}"
      ]
     },
     "execution_count": 11,
     "metadata": {
     },
     "output_type": "execute_result"
    }
   ],
   "source": [
    "T = {2,3,4,5}\n",
    "S.intersection(T)"
   ]
  },
  {
   "cell_type": "code",
   "execution_count": 0,
   "metadata": {
    "collapsed": false
   },
   "outputs": [
   ],
   "source": [
   ]
  },
  {
   "cell_type": "code",
   "execution_count": 17,
   "metadata": {
    "collapsed": false
   },
   "outputs": [
    {
     "data": {
      "text/plain": [
       "'\\nYou may sometimes want to find the number of distinct words in a body of text.\\nEven in this short bit of text many words occur multiple times.\\nThe set datatype is very useful for text processing.\\nAs an exercise, let us produce a list of the distinct words occurring in this text.\\n'"
      ]
     },
     "execution_count": 17,
     "metadata": {
     },
     "output_type": "execute_result"
    }
   ],
   "source": [
    "s = \"\"\"\n",
    "You may sometimes want to find the number of distinct words in a body of text.\n",
    "Even in this short bit of text many words occur multiple times.\n",
    "The set datatype is very useful for text processing.\n",
    "As an exercise, let us produce a list of the distinct words occurring in this text.\n",
    "\"\"\"\n",
    "s"
   ]
  },
  {
   "cell_type": "code",
   "execution_count": 18,
   "metadata": {
    "collapsed": false
   },
   "outputs": [
    {
     "data": {
      "text/plain": [
       "'you may sometimes want to find the number of distinct words in a body of texteven in this short bit of text many words occur multiple timesthe set datatype is very useful for text processingas an exercise, let us produce a list of the distinct words occurring in this text'"
      ]
     },
     "execution_count": 18,
     "metadata": {
     },
     "output_type": "execute_result"
    }
   ],
   "source": [
    "s = s.lower()  #  first convert all words to lowercase.\n",
    "s = s.replace(\".\",\"\")  # delete all periods\n",
    "s = s.replace(\"\\n\",\"\")\n",
    "s"
   ]
  },
  {
   "cell_type": "code",
   "execution_count": 21,
   "metadata": {
    "collapsed": false
   },
   "outputs": [
    {
     "data": {
      "text/plain": [
       "['you',\n",
       " 'may',\n",
       " 'sometimes',\n",
       " 'want',\n",
       " 'to',\n",
       " 'find',\n",
       " 'the',\n",
       " 'number',\n",
       " 'of',\n",
       " 'distinct',\n",
       " 'words',\n",
       " 'in',\n",
       " 'a',\n",
       " 'body',\n",
       " 'of',\n",
       " 'texteven',\n",
       " 'in',\n",
       " 'this',\n",
       " 'short',\n",
       " 'bit',\n",
       " 'of',\n",
       " 'text',\n",
       " 'many',\n",
       " 'words',\n",
       " 'occur',\n",
       " 'multiple',\n",
       " 'timesthe',\n",
       " 'set',\n",
       " 'datatype',\n",
       " 'is',\n",
       " 'very',\n",
       " 'useful',\n",
       " 'for',\n",
       " 'text',\n",
       " 'processingas',\n",
       " 'an',\n",
       " 'exercise,',\n",
       " 'let',\n",
       " 'us',\n",
       " 'produce',\n",
       " 'a',\n",
       " 'list',\n",
       " 'of',\n",
       " 'the',\n",
       " 'distinct',\n",
       " 'words',\n",
       " 'occurring',\n",
       " 'in',\n",
       " 'this',\n",
       " 'text']"
      ]
     },
     "execution_count": 21,
     "metadata": {
     },
     "output_type": "execute_result"
    }
   ],
   "source": [
    "## now we use split() to convert s into a list of words\n",
    "\n",
    "L = s.split()\n",
    "L"
   ]
  },
  {
   "cell_type": "code",
   "execution_count": 27,
   "metadata": {
    "collapsed": false
   },
   "outputs": [
    {
     "name": "stdout",
     "output_type": "stream",
     "text": [
      "The number of words occurring in L is 50\n",
      "The number of distinct words occurring in L is 37\n"
     ]
    },
    {
     "data": {
      "text/plain": [
       "{'sometimes': 1,\n",
       " 'bit': 1,\n",
       " 'exercise,': 1,\n",
       " 'is': 1,\n",
       " 'useful': 1,\n",
       " 'set': 1,\n",
       " 'us': 1,\n",
       " 'an': 1,\n",
       " 'multiple': 1,\n",
       " 'number': 1,\n",
       " 'occurring': 1,\n",
       " 'short': 1,\n",
       " 'very': 1,\n",
       " 'processingas': 1,\n",
       " 'words': 3,\n",
       " 'to': 1,\n",
       " 'in': 3,\n",
       " 'many': 1,\n",
       " 'a': 2,\n",
       " 'find': 1,\n",
       " 'the': 2,\n",
       " 'body': 1,\n",
       " 'of': 4,\n",
       " 'this': 2,\n",
       " 'you': 1,\n",
       " 'may': 1,\n",
       " 'for': 1,\n",
       " 'occur': 1,\n",
       " 'list': 1,\n",
       " 'timesthe': 1,\n",
       " 'produce': 1,\n",
       " 'want': 1,\n",
       " 'texteven': 1,\n",
       " 'text': 3,\n",
       " 'distinct': 2,\n",
       " 'let': 1,\n",
       " 'datatype': 1}"
      ]
     },
     "execution_count": 27,
     "metadata": {
     },
     "output_type": "execute_result"
    }
   ],
   "source": [
    "print(\"The number of words occurring in L is {}\".format(len(L)))\n",
    "S = set(L)\n",
    "print(\"The number of distinct words occurring in L is {}\".format(len(S)))\n",
    "counts = {w:L.count(w) for w in S}\n",
    "counts"
   ]
  },
  {
   "cell_type": "markdown",
   "metadata": {
    "collapsed": false
   },
   "source": [
    "#### Functions\n",
    "\n",
    "Here we give examples of how to define functions in python.  Notice that indentation is crucial.\n",
    "\n",
    "The basic syntax for declating a function is\n",
    "\n",
    "```\n",
    "def func_name(parameter1, parameter2):\n",
    "    # code block\n",
    "    # optional return statements\n",
    "```\n",
    "\n",
    "Below we implement selection sort as an example."
   ]
  },
  {
   "cell_type": "code",
   "execution_count": 34,
   "metadata": {
    "collapsed": false
   },
   "outputs": [
    {
     "name": "stdout",
     "output_type": "stream",
     "text": [
      "Using the function to sort alphabetically:\n",
      "['a', 'dog', 'great', 'have', 'what', 'you']\n",
      "\n",
      "\n",
      "Using the exact same function to sort numerically:\n",
      "[0, 1, 1, 1, 3, 4, 6, 7, 7, 7, 8, 8, 9]\n"
     ]
    }
   ],
   "source": [
    "def selection_sort(L):\n",
    "    _L = L[:]  ## A deep local copy\n",
    "    Lsorted = []\n",
    "    while len(_L)!=0:\n",
    "        # pop the least element of L and append it to Lsorted\n",
    "        Lsorted.append(_L.pop(_L.index(min(_L))))\n",
    "    return Lsorted    \n",
    "\n",
    "## By the magic of OO programming, the same function can sort words or numbers\n",
    "\n",
    "print(\"Using the function to sort alphabetically:\")\n",
    "L = \"what a great dog you have\".split()\n",
    "print(selection_sort(L))\n",
    "\n",
    "print(\"\\n\\nUsing the exact same function to sort numerically:\")\n",
    "import random\n",
    "L = [random.randint(0,10) for i in range(13)]\n",
    "print(selection_sort(L))"
   ]
  },
  {
   "cell_type": "markdown",
   "metadata": {
    "collapsed": false
   },
   "source": [
    "You can pass functions to functions."
   ]
  },
  {
   "cell_type": "code",
   "execution_count": 37,
   "metadata": {
    "collapsed": false
   },
   "outputs": [
    {
     "data": {
      "text/plain": [
       "['be', 'books', 'borrowed', 'must', 'promptly', 'returned']"
      ]
     },
     "execution_count": 37,
     "metadata": {
     },
     "output_type": "execute_result"
    }
   ],
   "source": [
    "def sort_wrapper(L, sort_method):\n",
    "    return sort_method(L)\n",
    "L = \"borrowed books must be promptly returned\".split()\n",
    "sort_wrapper(L,selection_sort)"
   ]
  },
  {
   "cell_type": "markdown",
   "metadata": {
    "collapsed": false
   },
   "source": [
    "Unlike C++, python functions can have optional parameters with default values."
   ]
  },
  {
   "cell_type": "code",
   "execution_count": 38,
   "metadata": {
    "collapsed": false
   },
   "outputs": [
    {
     "data": {
      "text/plain": [
       "(6.392010163749294, 40.85779393347428)"
      ]
     },
     "execution_count": 38,
     "metadata": {
     },
     "output_type": "execute_result"
    }
   ],
   "source": [
    "def bab_sqrt(S,iterations=3,initial_value=2):\n",
    "    \"\"\"Approximate the square root of S using the Babylonian method (Newton's method)\"\"\"\n",
    "    x = initial_value\n",
    "    for i in range(iterations):\n",
    "        x = 1/2*(x + S/x)\n",
    "    return x\n",
    "\n",
    "a = bab_sqrt(40)\n",
    "    \n",
    "a, a**2"
   ]
  },
  {
   "cell_type": "code",
   "execution_count": 39,
   "metadata": {
    "collapsed": false
   },
   "outputs": [
    {
     "data": {
      "text/plain": [
       "6.324555320336758"
      ]
     },
     "execution_count": 39,
     "metadata": {
     },
     "output_type": "execute_result"
    }
   ],
   "source": [
    "a = bab_sqrt(40,6,2)\n",
    "a"
   ]
  },
  {
   "cell_type": "code",
   "execution_count": 40,
   "metadata": {
    "collapsed": false
   },
   "outputs": [
    {
     "data": {
      "text/plain": [
       "(7.416198487095663, 55.0)"
      ]
     },
     "execution_count": 40,
     "metadata": {
     },
     "output_type": "execute_result"
    }
   ],
   "source": [
    "# If you don't know the order of the parameters you can do this:\n",
    "\n",
    "a = bab_sqrt(55, initial_value = 10, iterations = 100)\n",
    "a, a**2"
   ]
  },
  {
   "cell_type": "code",
   "execution_count": 41,
   "metadata": {
    "collapsed": false
   },
   "outputs": [
   ],
   "source": [
    "# The docstring shows up using the help function\n",
    "bab_sqrt?"
   ]
  },
  {
   "cell_type": "code",
   "execution_count": 51,
   "metadata": {
    "collapsed": false
   },
   "outputs": [
   ],
   "source": [
    "\n",
    "# Exercise:\n",
    "## implement GCD as a function"
   ]
  },
  {
   "cell_type": "code",
   "execution_count": 1,
   "metadata": {
    "collapsed": false
   },
   "outputs": [
   ],
   "source": [
    "#Exercise:\n",
    "\n",
    "## implement the dot product of two lists as a function.\n",
    "## make sure they are the same length!"
   ]
  },
  {
   "cell_type": "markdown",
   "metadata": {
    "collapsed": false
   },
   "source": [
    "### FileIO\n",
    "\n",
    "We will mostly be using the very convenient \"pandas\" module to load and export datasets.\n",
    "\n",
    "However we should cover at least the basics of FileIO in python. \n",
    "\n",
    "Below are examples of how to write and read simple text files.  \n",
    "\n",
    "In real applications a lot of code is added to make sure that the file actually opens and stuff like that.\n",
    "\n",
    "I'll be ignoring all of that in these simple examples.\n",
    "\n"
   ]
  },
  {
   "cell_type": "code",
   "execution_count": 48,
   "metadata": {
    "collapsed": false
   },
   "outputs": [
   ],
   "source": [
    "## Writing files\n",
    "\n",
    "letter = \"Dear John Jay,\\n You were great on the first Supreme Court of the USA.\"\n",
    "\n",
    "filename = \"Dear_John\"\n",
    "\n",
    "file_pointer = open(filename,\"w\")  #open a file for writing.  The \"a\" mode would append and not clobber.\n",
    "\n",
    "file_pointer.write(letter)  # write the string\n",
    "\n",
    "file_pointer.close()   # close the file\n"
   ]
  },
  {
   "cell_type": "markdown",
   "metadata": {
    "collapsed": false
   },
   "source": [
    "### Shell commands from Jupyter\n",
    "\n",
    "This is a convenient place to mention that you can use shell commands from Jupyter by adding a ! before the command.\n",
    "\n",
    "For instance the \"cat\" command dumps the contents of a file to the terminal.  \n",
    "\n",
    "The \"ls\" command lists the contents of a directory.\n",
    "\n",
    "Below I will use cat and ls to check whether the code in the above cell worked.  "
   ]
  },
  {
   "cell_type": "code",
   "execution_count": 45,
   "metadata": {
    "collapsed": false
   },
   "outputs": [
    {
     "name": "stdout",
     "output_type": "stream",
     "text": [
      "Dear_John  python.ipynb  s.term\r\n"
     ]
    }
   ],
   "source": [
    "!ls  ## The file Dear_John appears"
   ]
  },
  {
   "cell_type": "code",
   "execution_count": 46,
   "metadata": {
    "collapsed": false
   },
   "outputs": [
    {
     "name": "stdout",
     "output_type": "stream",
     "text": [
      "Dear John Jay,\r\n",
      " You were great on the first Supreme Court of the USA."
     ]
    }
   ],
   "source": [
    "!cat Dear_John  ## The contents of the file"
   ]
  },
  {
   "cell_type": "code",
   "execution_count": 54,
   "metadata": {
    "collapsed": false
   },
   "outputs": [
    {
     "name": "stdout",
     "output_type": "stream",
     "text": [
      "Dear John Jay,\r\n",
      " You were great on the first Supreme Court of the USA."
     ]
    }
   ],
   "source": [
    "!cat {filename}  ## This is how python variable can interact with the shell in Jupyter"
   ]
  },
  {
   "cell_type": "code",
   "execution_count": 56,
   "metadata": {
    "collapsed": false
   },
   "outputs": [
    {
     "data": {
      "text/plain": [
       "['Dear_John', 'python.ipynb', 's.term']"
      ]
     },
     "execution_count": 56,
     "metadata": {
     },
     "output_type": "execute_result"
    }
   ],
   "source": [
    "files = !ls   ## You can also assign the result of a shell command to a python variable\n",
    "files"
   ]
  },
  {
   "cell_type": "code",
   "execution_count": 57,
   "metadata": {
    "collapsed": false
   },
   "outputs": [
    {
     "data": {
      "text/plain": [
       "['/home/hunter/Documents/ML_course/ML_Spr_20/Slides/Intro2Python2']"
      ]
     },
     "execution_count": 57,
     "metadata": {
     },
     "output_type": "execute_result"
    }
   ],
   "source": [
    "current_dir = !echo $PWD\n",
    "current_dir"
   ]
  },
  {
   "cell_type": "code",
   "execution_count": 61,
   "metadata": {
    "collapsed": false
   },
   "outputs": [
    {
     "data": {
      "text/plain": [
       "'Dear John Jay,\\n You were great on the first Supreme Court of the USA.'"
      ]
     },
     "execution_count": 61,
     "metadata": {
     },
     "output_type": "execute_result"
    }
   ],
   "source": [
    "### Reading files\n",
    "## Reading files is just as easy as writing to files.\n",
    "\n",
    "fp = open(filename,'r') #open in read mode\n",
    "content = fp.read()\n",
    "fp.close()\n",
    "content"
   ]
  },
  {
   "cell_type": "code",
   "execution_count": 0,
   "metadata": {
    "collapsed": false
   },
   "outputs": [
   ],
   "source": [
   ]
  }
 ],
 "metadata": {
  "kernelspec": {
   "display_name": "Python 3 (system-wide)",
   "language": "python",
   "metadata": {
    "cocalc": {
     "description": "Python 3 programming language",
     "priority": 100,
     "url": "https://www.python.org/"
    }
   },
   "name": "python3"
  },
  "language_info": {
   "codemirror_mode": {
    "name": "ipython",
    "version": 3
   },
   "file_extension": ".py",
   "mimetype": "text/x-python",
   "name": "python",
   "nbconvert_exporter": "python",
   "pygments_lexer": "ipython3",
   "version": "3.6.9"
  }
 },
 "nbformat": 4,
 "nbformat_minor": 0
}