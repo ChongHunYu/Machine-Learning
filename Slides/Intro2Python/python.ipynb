{
 "cells": [
  {
   "cell_type": "markdown",
   "metadata": {
    "collapsed": false
   },
   "source": [
    "## Some quick Python...\n",
    "\n",
    "We don't need to know tons of python for this course.  We do need to know the basics though.\n",
    "\n",
    "You should already know C++.  There are 3 big differences between python and C++ you will notice right away:\n",
    "\n",
    "1.  You don't compile python, it just runs as a script.\n",
    "1.  There are no braces {} in python.  **Code blocks are determined by indentation.**\n",
    "1.  You don't need to declare variable types.  They are determined implicitly.\n",
    "\n",
    "Point (3) is nice, but it can lead to hard to find bugs so be careful.  If you want to check the type of a python variable you can do it using the `type()` command.\n",
    "\n",
    "\n",
    "There are many great free online resources for learning Python.  \n",
    "\n",
    "You might want to read through Think Python 2e which is available here: https://greenteapress.com/wp/think-python-2e/"
   ]
  },
  {
   "cell_type": "code",
   "execution_count": 1,
   "metadata": {
    "collapsed": false
   },
   "outputs": [
    {
     "data": {
      "text/plain": [
       "(int, float, str)"
      ]
     },
     "execution_count": 1,
     "metadata": {
     },
     "output_type": "execute_result"
    }
   ],
   "source": [
    "a = 6\n",
    "b = 6.0\n",
    "c = \"hi\"\n",
    "type(a),type(b),type(c)\n"
   ]
  },
  {
   "cell_type": "markdown",
   "metadata": {
    "collapsed": false
   },
   "source": [
    "###  Int, Float, Str\n",
    "\n",
    "The basic atomic datatypes in Python are integers, floats and strings.  \n",
    "\n",
    "#### Integers\n",
    "\n",
    "Integers can be as big as you want, unlike C/C++.\n",
    "\n",
    "Arithmetic works as it usually does.\n",
    "\n",
    "In Python3 but not Python2 quotients of integers are floats.\n",
    "\n",
    "Below are some examples.  "
   ]
  },
  {
   "cell_type": "code",
   "execution_count": 3,
   "metadata": {
    "collapsed": false,
    "scrolled": true
   },
   "outputs": [
    {
     "data": {
      "text/plain": [
       "133382012266810123024243828603394426976927152206975532639271446494657605005869810581402297860867547970971808618496630775115365070461019225470911909891207539593698249211981543529126968522097246438076835325552147285729708862130849456627126486128644044636093886998494454268535882847783642961087784921278158012882301646459116718121831085383068678148777133207220825981493053953142217556787669261042434503120546127430672245352426858630485963844835125665431291001685890849284343212502744681734107108633656396817161961610038957674088533451737014880833617487010153506995520270904794121476878260616065707740274422344570006101334925302538280576485927248260617797884635715401286073160452569779061942907384332932888877218829666518222908579365872307875940600574144141899375356051164602995174221526428696222980600186676749453613000656041217117421344990038264739898368497072802792134141410886625001472"
      ]
     },
     "execution_count": 3,
     "metadata": {
     },
     "output_type": "execute_result"
    }
   ],
   "source": [
    "a = 2**2937  ## Exponentiation\n",
    "a"
   ]
  },
  {
   "cell_type": "code",
   "execution_count": 14,
   "metadata": {
    "collapsed": false
   },
   "outputs": [
    {
     "data": {
      "text/plain": [
       "(1.6666666666666667, 1, (1, 2))"
      ]
     },
     "execution_count": 14,
     "metadata": {
     },
     "output_type": "execute_result"
    }
   ],
   "source": [
    "## Floating point vs integer division in Python3\n",
    "5/3, 5//3, divmod(5,3)"
   ]
  },
  {
   "cell_type": "code",
   "execution_count": 6,
   "metadata": {
    "collapsed": false
   },
   "outputs": [
    {
     "data": {
      "text/plain": [
       "5000"
      ]
     },
     "execution_count": 6,
     "metadata": {
     },
     "output_type": "execute_result"
    }
   ],
   "source": [
    "int(\"5000\")  #conversion str to int"
   ]
  },
  {
   "cell_type": "code",
   "execution_count": 7,
   "metadata": {
    "collapsed": false
   },
   "outputs": [
    {
     "data": {
      "text/plain": [
       "'5000'"
      ]
     },
     "execution_count": 7,
     "metadata": {
     },
     "output_type": "execute_result"
    }
   ],
   "source": [
    "str(5000) #conversion int to str"
   ]
  },
  {
   "cell_type": "code",
   "execution_count": 15,
   "metadata": {
    "collapsed": false
   },
   "outputs": [
    {
     "data": {
      "text/plain": [
       "233811181"
      ]
     },
     "execution_count": 15,
     "metadata": {
     },
     "output_type": "execute_result"
    }
   ],
   "source": [
    "int(\"0xdefaced\",16)  #base conversion defaced base 16 to decimal"
   ]
  },
  {
   "cell_type": "markdown",
   "metadata": {
    "collapsed": false
   },
   "source": [
    "#### Floats\n",
    "\n",
    "There is basically nothing surprising or unusual about floats in Python.\n",
    "\n",
    "#### Strings\n",
    "\n",
    "Python has a lot of functions that are convenient for string manipulation.\n",
    "\n",
    "We'll see some of those below.  \n",
    "\n",
    "Here let's just focus on how to use basic strings.\n",
    "\n",
    "A few examples will follow. \n",
    "\n"
   ]
  },
  {
   "cell_type": "code",
   "execution_count": 16,
   "metadata": {
    "collapsed": false
   },
   "outputs": [
    {
     "name": "stdout",
     "output_type": "stream",
     "text": [
      "This is how you print a string.\n"
     ]
    }
   ],
   "source": [
    "print(\"This is how you print a string.\")"
   ]
  },
  {
   "cell_type": "code",
   "execution_count": 18,
   "metadata": {
    "collapsed": false
   },
   "outputs": [
    {
     "data": {
      "text/plain": [
       "'ABCDEF'"
      ]
     },
     "execution_count": 18,
     "metadata": {
     },
     "output_type": "execute_result"
    }
   ],
   "source": [
    "\"ABC\" + \"DEF\"  ## Addition is concatenation"
   ]
  },
  {
   "cell_type": "code",
   "execution_count": 3,
   "metadata": {
    "collapsed": false
   },
   "outputs": [
    {
     "data": {
      "text/plain": [
       "'AAAAAAAAAAAA'"
      ]
     },
     "execution_count": 3,
     "metadata": {
     },
     "output_type": "execute_result"
    }
   ],
   "source": [
    "\"A\"*12     ## Mulitiplication by n is self concatenation n times"
   ]
  },
  {
   "cell_type": "code",
   "execution_count": 21,
   "metadata": {
    "collapsed": false
   },
   "outputs": [
    {
     "data": {
      "text/plain": [
       "'This is a formatted string.  You can use this to report on numbers like 99999 that are the result of computations.'"
      ]
     },
     "execution_count": 21,
     "metadata": {
     },
     "output_type": "execute_result"
    }
   ],
   "source": [
    "\"This is a {} string.  You can use this to report on numbers like {} that are the result of computations.\".format(\"formatted\",99999)"
   ]
  },
  {
   "cell_type": "code",
   "execution_count": 6,
   "metadata": {
    "collapsed": false
   },
   "outputs": [
    {
     "data": {
      "text/plain": [
       "'c'"
      ]
     },
     "execution_count": 6,
     "metadata": {
     },
     "output_type": "execute_result"
    }
   ],
   "source": [
    "S = \"microwave\"\n",
    "S[2]    ## string values can be \"gotten\" but not changed.\n"
   ]
  },
  {
   "cell_type": "code",
   "execution_count": 1,
   "metadata": {
    "collapsed": false
   },
   "outputs": [
    {
     "data": {
      "text/plain": [
       "True"
      ]
     },
     "execution_count": 1,
     "metadata": {
     },
     "output_type": "execute_result"
    }
   ],
   "source": [
    "## Both \"\" and '' are equally valid ways of declaring string literals\n",
    "\"hi\" == 'hi'"
   ]
  },
  {
   "cell_type": "code",
   "execution_count": 2,
   "metadata": {
    "collapsed": false
   },
   "outputs": [
    {
     "data": {
      "text/plain": [
       "\"With the two notations for a string you can make 'strings within strings' as it were.\""
      ]
     },
     "execution_count": 2,
     "metadata": {
     },
     "output_type": "execute_result"
    }
   ],
   "source": [
    "\"With the two notations for a string you can make 'strings within strings' as it were.\""
   ]
  },
  {
   "cell_type": "code",
   "execution_count": 3,
   "metadata": {
    "collapsed": false
   },
   "outputs": [
   ],
   "source": [
    "t = \"\"\"\n",
    "Strings within triple quotes can be multiple lines long.\n",
    "Often triple quotes are used for comments in python.\n",
    "\"\"\""
   ]
  },
  {
   "cell_type": "code",
   "execution_count": 4,
   "metadata": {
    "collapsed": false
   },
   "outputs": [
    {
     "data": {
      "text/plain": [
       "b'Sometimes you may want to deal with text just as ASCII byte codes (aka UTF8)'"
      ]
     },
     "execution_count": 4,
     "metadata": {
     },
     "output_type": "execute_result"
    }
   ],
   "source": [
    "\"Sometimes you may want to deal with text just as ASCII byte codes (aka UTF8)\".encode()"
   ]
  },
  {
   "cell_type": "markdown",
   "metadata": {
    "collapsed": false
   },
   "source": [
    "### Some familiar datatypes...\n",
    "\n",
    "You can see that even though they are implicit, python still uses ints, floats and strings.  \n",
    "Also notice that the result of the last command in a cell is printed to the screen!\n",
    "\n",
    "Another thing that might be new to you with python is the arrays work.\n",
    "\n",
    "In python memory management is all done for you and you don't need to allocate space.\n",
    "\n",
    "Python calls arrays _lists_.  \n",
    "\n",
    "Python lists are just variables inside hard brackets.\n"
   ]
  },
  {
   "cell_type": "code",
   "execution_count": 19,
   "metadata": {
    "collapsed": false
   },
   "outputs": [
    {
     "data": {
      "text/plain": [
       "[6, 6.0, 'hi']"
      ]
     },
     "execution_count": 19,
     "metadata": {
     },
     "output_type": "execute_result"
    }
   ],
   "source": [
    "a_list = [a,b,c]\n",
    "a_list"
   ]
  },
  {
   "cell_type": "markdown",
   "metadata": {
    "collapsed": false
   },
   "source": [
    "### Accessing List Elements\n",
    "\n",
    "You access the elements of a list using basically the same notation as C++.  It's zero-based integer indexing.\n",
    "    \n",
    "For example ..."
   ]
  },
  {
   "cell_type": "code",
   "execution_count": 20,
   "metadata": {
    "collapsed": false
   },
   "outputs": [
    {
     "data": {
      "text/plain": [
       "[6, 6.0, 4, 9]"
      ]
     },
     "execution_count": 20,
     "metadata": {
     },
     "output_type": "execute_result"
    }
   ],
   "source": [
    "a_list[2]=4\n",
    "a_list.append(9)\n",
    "#B = a_list*3\n",
    "#B\n",
    "a_list"
   ]
  },
  {
   "cell_type": "code",
   "execution_count": 33,
   "metadata": {
    "collapsed": false
   },
   "outputs": [
    {
     "data": {
      "text/plain": [
       "[1, 2, 3]"
      ]
     },
     "execution_count": 33,
     "metadata": {
     },
     "output_type": "execute_result"
    }
   ],
   "source": [
    "A = [1,2,3]\n",
    "B = A[:]  ## Deep copy -- doesn't change A\n",
    "B.append(\"whoa\")\n",
    "A"
   ]
  },
  {
   "cell_type": "code",
   "execution_count": 8,
   "metadata": {
    "collapsed": false
   },
   "outputs": [
    {
     "data": {
      "text/plain": [
       "[1, 2, 3, 'whoa']"
      ]
     },
     "execution_count": 8,
     "metadata": {
     },
     "output_type": "execute_result"
    }
   ],
   "source": [
    "A = [1,2,3]\n",
    "B = A  ## Just a pointer, changes affect A\n",
    "B.append(\"whoa\")\n",
    "A"
   ]
  },
  {
   "cell_type": "code",
   "execution_count": 13,
   "metadata": {
    "collapsed": false
   },
   "outputs": [
    {
     "data": {
      "text/plain": [
       "(1, 2, 3)"
      ]
     },
     "execution_count": 13,
     "metadata": {
     },
     "output_type": "execute_result"
    }
   ],
   "source": [
    "### A tuple is a \"constant\" version of a list that cannot be altered.\n",
    "### Try making changes to T, below\n",
    "T = tuple(A)\n",
    "T"
   ]
  },
  {
   "cell_type": "code",
   "execution_count": 6,
   "metadata": {
    "collapsed": false
   },
   "outputs": [
    {
     "data": {
      "text/plain": [
       "18.0"
      ]
     },
     "execution_count": 6,
     "metadata": {
     },
     "output_type": "execute_result"
    }
   ],
   "source": [
    "# Exercise\n",
    "\n",
    "## In this cell create a list containing two numbers and two strings.\n",
    "## Try accesing the \"-1\"th element of your list.  What happened?\n",
    "\n",
    "ernie = [3,\"blue\",18.0,\"red\"]\n",
    "ernie[-2]"
   ]
  },
  {
   "cell_type": "code",
   "execution_count": 9,
   "metadata": {
    "collapsed": false
   },
   "outputs": [
    {
     "data": {
      "text/plain": [
       "[3, 'blue', 18.0, 'red', 1, 2, 3, 'whoa']"
      ]
     },
     "execution_count": 9,
     "metadata": {
     },
     "output_type": "execute_result"
    }
   ],
   "source": [
    "## Addition on lists is concatenation\n",
    "\n",
    "ernie + A"
   ]
  },
  {
   "cell_type": "code",
   "execution_count": 9,
   "metadata": {
    "collapsed": false
   },
   "outputs": [
    {
     "data": {
      "text/plain": [
       "1"
      ]
     },
     "execution_count": 9,
     "metadata": {
     },
     "output_type": "execute_result"
    }
   ],
   "source": [
    "## There are built in functions for sorting lists and manipulating them in other ways.\n",
    "\n",
    "jamie = [3,4,5,10,-11]\n",
    "jamie.sort()\n",
    "jamie.count(3)"
   ]
  },
  {
   "cell_type": "markdown",
   "metadata": {
    "collapsed": false
   },
   "source": [
    "### Ranges and iteration\n",
    "\n",
    "An important type of list is a _range_.\n",
    "\n",
    "This produces a list of numbers from `a` to `b`.  If you want you can also introduce a \"stride length\".\n",
    "\n",
    "Usually `for` loops are over ranges of numbers.  Here are some examples."
   ]
  },
  {
   "cell_type": "code",
   "execution_count": 12,
   "metadata": {
    "collapsed": false
   },
   "outputs": [
    {
     "name": "stdout",
     "output_type": "stream",
     "text": [
      "1\n",
      "2\n",
      "3\n",
      "4\n",
      "5\n",
      "6\n",
      "7\n",
      "8\n"
     ]
    }
   ],
   "source": [
    "for i in range(1,9):\n",
    "    print(i)"
   ]
  },
  {
   "cell_type": "code",
   "execution_count": 29,
   "metadata": {
    "collapsed": false
   },
   "outputs": [
    {
     "data": {
      "text/plain": [
       "[2, 4, 6, 8]"
      ]
     },
     "execution_count": 29,
     "metadata": {
     },
     "output_type": "execute_result"
    }
   ],
   "source": [
    "list(range(2,10,2))"
   ]
  },
  {
   "cell_type": "code",
   "execution_count": 21,
   "metadata": {
    "collapsed": false
   },
   "outputs": [
    {
     "name": "stdout",
     "output_type": "stream",
     "text": [
      "0\n",
      "1\n",
      "2\n",
      "3\n"
     ]
    }
   ],
   "source": [
    "for i in range(4):\n",
    "    print(i)"
   ]
  },
  {
   "cell_type": "markdown",
   "metadata": {
    "collapsed": false
   },
   "source": [
    "### Indentation is important!\n",
    "\n",
    "Python doesn't use braces like C, C++ or Java. \n",
    "\n",
    "The only way you know you are \"inside\" a code block (such as a for-loop) is by the indentation level.\n"
   ]
  },
  {
   "cell_type": "code",
   "execution_count": 24,
   "metadata": {
    "collapsed": false
   },
   "outputs": [
    {
     "name": "stdout",
     "output_type": "stream",
     "text": [
      "1\n",
      "2\n",
      "3\n"
     ]
    }
   ],
   "source": [
    "# You can also specify the starting number (zero by default)\n",
    "for i in range(1,4):\n",
    "    print(i)"
   ]
  },
  {
   "cell_type": "code",
   "execution_count": 15,
   "metadata": {
    "collapsed": false
   },
   "outputs": [
    {
     "name": "stdout",
     "output_type": "stream",
     "text": [
      "10\n",
      "9\n",
      "8\n",
      "7\n",
      "6\n",
      "5\n",
      "4\n",
      "3\n",
      "2\n",
      "b\n"
     ]
    }
   ],
   "source": [
    "# This time we specify the stridelength to be -1, so the range counts down\n",
    "for i in range(10,1,-1):\n",
    "    print(i)\n",
    "print(\"b\")    "
   ]
  },
  {
   "cell_type": "code",
   "execution_count": 40,
   "metadata": {
    "collapsed": false
   },
   "outputs": [
    {
     "data": {
      "text/plain": [
       "([1, 3, 5, 7, 9, 11], 36, 11, 1)"
      ]
     },
     "execution_count": 40,
     "metadata": {
     },
     "output_type": "execute_result"
    }
   ],
   "source": [
    "# Exercise print the even numbers between 0 and 10\n",
    "\n",
    "# Create a list of the first 6 odd numbers and find the sum, max and min\n",
    "\n",
    "L = list(range(1,2*6+1,2))\n",
    "L,sum(L), max(L),min(L)\n"
   ]
  },
  {
   "cell_type": "markdown",
   "metadata": {
    "collapsed": false
   },
   "source": [
    "### Iteration over containers\n",
    "\n",
    "In python for-loops iterate over some container (like a list).\n",
    "\n",
    "Some examples of this are below..."
   ]
  },
  {
   "cell_type": "code",
   "execution_count": 1,
   "metadata": {
    "collapsed": false
   },
   "outputs": [
    {
     "name": "stdout",
     "output_type": "stream",
     "text": [
      "w\n",
      "o\n",
      "r\n",
      "d\n"
     ]
    }
   ],
   "source": [
    "for letter in \"word\":\n",
    "    print(letter)"
   ]
  },
  {
   "cell_type": "code",
   "execution_count": 23,
   "metadata": {
    "collapsed": false
   },
   "outputs": [
    {
     "name": "stdout",
     "output_type": "stream",
     "text": [
      "[1, 2]\n",
      "[3, 4]\n",
      "[5, 6]\n"
     ]
    }
   ],
   "source": [
    "\n",
    "## Matrixes are the fundamental abstraction in data science\n",
    "## Pay attention to this cell :)\n",
    "matrix = [[1,2],[3,4],[5,6]]\n",
    "for row in matrix:\n",
    "    print(row)"
   ]
  },
  {
   "cell_type": "markdown",
   "metadata": {
    "collapsed": false
   },
   "source": [
    "### Array slicing\n",
    "\n",
    "An important idea in python and especially in this class is array slicing.\n",
    "\n",
    "The basic syntax is \n",
    "\n",
    "    A[start:stop]\n",
    "\n",
    "where `A` is a list.  This returns a new array which is a copy of the subarray of `A` with indexes greater than or equal to `start` and strictly less than `stop`.\n",
    "\n",
    "For example:\n",
    "\n"
   ]
  },
  {
   "cell_type": "code",
   "execution_count": 24,
   "metadata": {
    "collapsed": false
   },
   "outputs": [
    {
     "data": {
      "text/plain": [
       "[2, 3, 4, 5, 6, 7]"
      ]
     },
     "execution_count": 24,
     "metadata": {
     },
     "output_type": "execute_result"
    }
   ],
   "source": [
    "A = list(range(10))\n",
    "A[2:8]\n",
    "    "
   ]
  },
  {
   "cell_type": "code",
   "execution_count": 55,
   "metadata": {
    "collapsed": false
   },
   "outputs": [
    {
     "data": {
      "text/plain": [
       "[0, 1, 2, 3, 4]"
      ]
     },
     "execution_count": 55,
     "metadata": {
     },
     "output_type": "execute_result"
    }
   ],
   "source": [
    "# If the start isn't given it's assumed to be zero\n",
    "\n",
    "A[:5]"
   ]
  },
  {
   "cell_type": "code",
   "execution_count": 56,
   "metadata": {
    "collapsed": false
   },
   "outputs": [
    {
     "data": {
      "text/plain": [
       "[2, 3, 4, 5, 6, 7, 8, 9]"
      ]
     },
     "execution_count": 56,
     "metadata": {
     },
     "output_type": "execute_result"
    }
   ],
   "source": [
    "#  If the stop isn't given we get the array all the way up to the end\n",
    "\n",
    "A[2:]"
   ]
  },
  {
   "cell_type": "code",
   "execution_count": 25,
   "metadata": {
    "collapsed": false
   },
   "outputs": [
    {
     "data": {
      "text/plain": [
       "[8, 9]"
      ]
     },
     "execution_count": 25,
     "metadata": {
     },
     "output_type": "execute_result"
    }
   ],
   "source": [
    "# The last two elements of A\n",
    "\n",
    "A[-2:]"
   ]
  },
  {
   "cell_type": "code",
   "execution_count": 33,
   "metadata": {
    "collapsed": false
   },
   "outputs": [
    {
     "data": {
      "text/plain": [
       "[0, 1, 2, 3, 4, 5, 6, 7, 8, 9]"
      ]
     },
     "execution_count": 33,
     "metadata": {
     },
     "output_type": "execute_result"
    }
   ],
   "source": [
    "A[:]"
   ]
  },
  {
   "cell_type": "code",
   "execution_count": 58,
   "metadata": {
    "collapsed": false
   },
   "outputs": [
    {
     "data": {
      "text/plain": [
       "[0, 2, 4, 6, 8]"
      ]
     },
     "execution_count": 58,
     "metadata": {
     },
     "output_type": "execute_result"
    }
   ],
   "source": [
    "#You can add a stride...\n",
    "# here the stop and the start are the default values\n",
    "A[::2]"
   ]
  },
  {
   "cell_type": "code",
   "execution_count": 36,
   "metadata": {
    "collapsed": false
   },
   "outputs": [
    {
     "data": {
      "text/plain": [
       "'dise'"
      ]
     },
     "execution_count": 36,
     "metadata": {
     },
     "output_type": "execute_result"
    }
   ],
   "source": [
    "P = \"antidisestablishmentarianism\"\n",
    "C = \"micropachycephalosaurus\"\n",
    "P[4:8]"
   ]
  },
  {
   "cell_type": "code",
   "execution_count": 35,
   "metadata": {
    "collapsed": false
   },
   "outputs": [
    {
     "data": {
      "text/plain": [
       "['it',\n",
       " 'split',\n",
       " 'we',\n",
       " 'when',\n",
       " 'strings',\n",
       " 'of',\n",
       " 'list',\n",
       " 'a',\n",
       " 'becomes',\n",
       " 'it',\n",
       " 'but',\n",
       " 'sentence',\n",
       " 'a',\n",
       " 'is']"
      ]
     },
     "execution_count": 35,
     "metadata": {
     },
     "output_type": "execute_result"
    }
   ],
   "source": [
    "## Exercise\n",
    "## Use array slicing to print out every other word of the sentence below\n",
    "\n",
    "S = \"this is a sentence but it becomes a list of strings when we split it\"\n",
    "L = S.split()\n",
    "L[-1:0:-1]"
   ]
  },
  {
   "cell_type": "markdown",
   "metadata": {
    "collapsed": false
   },
   "source": [
    "#### Using libraries\n",
    "\n",
    "Libraries are used in python by using the \"import\" command.\n",
    "Like in C++, libraries expand the set of functions you can use in python.\n",
    "\n"
   ]
  },
  {
   "cell_type": "code",
   "execution_count": 42,
   "metadata": {
    "collapsed": false
   },
   "outputs": [
    {
     "data": {
      "image/png": "[encoded data removed]",
      "text/plain": [
       "<Figure size 432x288 with 1 Axes>"
      ]
     },
     "execution_count": 42,
     "metadata": {
      "needs_background": "light"
     },
     "output_type": "execute_result"
    }
   ],
   "source": [
    "import numpy as np\n",
    "import pandas as pd\n",
    "import matplotlib.pyplot as plt\n",
    "\n",
    "x = np.linspace(-10,10,100)\n",
    "y = 1/(1+np.exp(-x))\n",
    "\n",
    "plt.plot(x,y)\n",
    "plt.show()"
   ]
  },
  {
   "cell_type": "markdown",
   "metadata": {
    "collapsed": false
   },
   "source": [
    "# import math\n",
    "\n",
    "math.log(100), math.e\n",
    "\n"
   ]
  },
  {
   "cell_type": "code",
   "execution_count": 64,
   "metadata": {
    "collapsed": false
   },
   "outputs": [
    {
     "data": {
      "text/plain": [
       "(0, 0.8166279820784121)"
      ]
     },
     "execution_count": 64,
     "metadata": {
     },
     "output_type": "execute_result"
    }
   ],
   "source": [
    "# Uniform randomness\n",
    "# Not cryptographically secure\n",
    "import random\n",
    "\n",
    "random.randint(0,2),random.random()"
   ]
  },
  {
   "cell_type": "code",
   "execution_count": 68,
   "metadata": {
    "collapsed": false
   },
   "outputs": [
    {
     "data": {
      "text/plain": [
       "'a99969c35d5160f18823429ca736a93d6e12e061ce11761ac7ae53b4ddac5ff4'"
      ]
     },
     "execution_count": 68,
     "metadata": {
     },
     "output_type": "execute_result"
    }
   ],
   "source": [
    "import hashlib\n",
    "\n",
    "h = hashlib.sha256()\n",
    "\n",
    "h.update(\"machine learning doesn't use hashing\".encode())\n",
    "h.hexdigest()"
   ]
  },
  {
   "cell_type": "code",
   "execution_count": 52,
   "metadata": {
    "collapsed": false
   },
   "outputs": [
    {
     "data": {
      "text/plain": [
       "[-0.9999999958776927,\n",
       " -0.999999969540041,\n",
       " -0.9999997749296758,\n",
       " -0.9999983369439447,\n",
       " -0.9999877116507956,\n",
       " -0.9999092042625951,\n",
       " -0.999329299739067,\n",
       " -0.9950547536867305,\n",
       " -0.9640275800758169,\n",
       " -0.7615941559557649,\n",
       " 0.0,\n",
       " 0.7615941559557649,\n",
       " 0.9640275800758169,\n",
       " 0.9950547536867305,\n",
       " 0.999329299739067,\n",
       " 0.9999092042625951,\n",
       " 0.9999877116507956,\n",
       " 0.9999983369439447,\n",
       " 0.9999997749296758,\n",
       " 0.999999969540041,\n",
       " 0.9999999958776927]"
      ]
     },
     "execution_count": 52,
     "metadata": {
     },
     "output_type": "execute_result"
    }
   ],
   "source": [
    "#Exercise\n",
    "\n",
    "## Use the math library to find hyperbolic tangent of all the numbers in range(-10,11)\n",
    "import math \n",
    "[math.tanh(x) for x in range(-10,11)]\n"
   ]
  },
  {
   "cell_type": "markdown",
   "metadata": {
    "collapsed": false
   },
   "source": [
    "#### Slick tricks\n",
    "\n",
    "There are a few nice ways to do things fast in python.  Here is a quick sketch of some of them.\n",
    "\n",
    "The most important of these is called a **list comprehension**.\n",
    "\n",
    "It is a fast way to both transform and filter an existing container using something like set-builder notation.\n",
    "\n",
    "The basic syntax is:\n",
    "\n",
    "```\n",
    "    [t(a) for a in L if <condition>]\n",
    "```\n",
    "\n",
    "where `t` is some (optional) transformation function and L is a container (such as a list).\n"
   ]
  },
  {
   "cell_type": "code",
   "execution_count": 55,
   "metadata": {
    "collapsed": false
   },
   "outputs": [
    {
     "name": "stdout",
     "output_type": "stream",
     "text": [
      "[1, 49, 51, 99]\n"
     ]
    },
    {
     "data": {
      "text/plain": [
       "22"
      ]
     },
     "execution_count": 55,
     "metadata": {
     },
     "output_type": "execute_result"
    }
   ],
   "source": [
    "## List comprehensions\n",
    "\n",
    "A = range(100)\n",
    "print([a for a in A if (a**2)%100 == 1] )\n",
    "\n",
    "## The form is:\n",
    "\n",
    "#[a for a in Some_Container if Some_Condition]\n",
    "\n",
    "## You can also do\n",
    "\n",
    "#[f(a) for a in Some_Container if Some_Condition]\n",
    "\n",
    "## where f is any function\n",
    "\n",
    "## Exercise:\n",
    "\n",
    "## The code above shows that \"1\" has some \"square roots\" mod 100.\n",
    "## Compute the set of all \"squares\" mod 100.\n",
    "len(set([(a**2)%100 for a in A]))\n"
   ]
  },
  {
   "cell_type": "code",
   "execution_count": 2,
   "metadata": {
    "collapsed": false
   },
   "outputs": [
    {
     "data": {
      "text/plain": [
       "['all', 'that', 'contain', \"'a'\", 'has', 'many', 'and', \"that's\", 'because']"
      ]
     },
     "execution_count": 2,
     "metadata": {
     },
     "output_type": "execute_result"
    }
   ],
   "source": [
    "S = \"\"\"let's find all the words in this sentence that contain 'a'\n",
    "This string has\n",
    "\n",
    "many lines\n",
    "\n",
    "and that's possible because of the triple quotes\n",
    "\"\"\"\n",
    "[w for w in S.split() if 'a' in w]"
   ]
  },
  {
   "cell_type": "code",
   "execution_count": 3,
   "metadata": {
    "collapsed": false
   },
   "outputs": [
    {
     "data": {
      "text/plain": [
       "['find',\n",
       " 'words',\n",
       " 'this',\n",
       " 'sentence',\n",
       " 'that',\n",
       " 'have',\n",
       " 'length',\n",
       " 'least',\n",
       " 'four']"
      ]
     },
     "execution_count": 3,
     "metadata": {
     },
     "output_type": "execute_result"
    }
   ],
   "source": [
    "## Exercise:\n",
    "\n",
    "S = \"find all the words in this sentence that have length at least four\"\n",
    "[w for w in S.split() if len(w) >=4]\n"
   ]
  },
  {
   "cell_type": "markdown",
   "metadata": {
    "collapsed": false
   },
   "source": [
    "## Control structures\n",
    "\n",
    "Like C++ python allows you to branch on conditions.  There are while loops as well as for loops.\n",
    "\n",
    "Below I'm going to write a variety of programs.  You can use them as a reference for the exercises given after.\n"
   ]
  },
  {
   "cell_type": "code",
   "execution_count": 27,
   "metadata": {
    "collapsed": false
   },
   "outputs": [
    {
     "name": "stdout",
     "output_type": "stream",
     "text": [
      "0\n",
      "11\n",
      "18 is even better than sliced bread\n",
      "22\n",
      "33\n",
      "36 is even better than sliced bread\n",
      "44\n",
      "54 is even better than sliced bread\n",
      "55\n",
      "66\n",
      "72 is even better than sliced bread\n",
      "77\n",
      "88\n",
      "90 is even better than sliced bread\n"
     ]
    }
   ],
   "source": [
    "for i in range(100):\n",
    "    if i in [6,8,10]:\n",
    "        continue\n",
    "    if i > 90:\n",
    "        break\n",
    "    if i%11 == 0:\n",
    "        print(i)\n",
    "    elif i%18 == 0:\n",
    "        #print(\"{} is even better than {}\".format(i,\"sliced bread\"))\n",
    "        print(\"%s is even better than %s\"%(str(i),\"sliced bread\"))\n",
    "    "
   ]
  },
  {
   "cell_type": "code",
   "execution_count": 32,
   "metadata": {
    "collapsed": false
   },
   "outputs": [
    {
     "name": "stdout",
     "output_type": "stream",
     "text": [
      "5050\n",
      "50.5\n"
     ]
    }
   ],
   "source": [
    "total = 0\n",
    "for i in range(101):\n",
    "    total += i\n",
    "print(total)  #The sum of 1,2,3,...,100\n",
    "print(total/100) # The average of 1,2,3,...,100"
   ]
  },
  {
   "cell_type": "code",
   "execution_count": 37,
   "metadata": {
    "collapsed": false
   },
   "outputs": [
    {
     "data": {
      "text/plain": [
       "2.7182831876793716"
      ]
     },
     "execution_count": 37,
     "metadata": {
     },
     "output_type": "execute_result"
    }
   ],
   "source": [
    "e_recip = (1-1/1000000)**1000000  # Exponentiation is denoted **\n",
    "\n",
    "1/e_recip"
   ]
  },
  {
   "cell_type": "code",
   "execution_count": 63,
   "metadata": {
    "collapsed": false
   },
   "outputs": [
    {
     "data": {
      "text/plain": [
       "[1, 2, 4, 8, 16, 32, 64, 128, 256, 512]"
      ]
     },
     "execution_count": 63,
     "metadata": {
     },
     "output_type": "execute_result"
    }
   ],
   "source": [
    "## Exercise \n",
    "## Print out the first 10 powers of 2\n",
    "[2**p for p in range(10)]"
   ]
  },
  {
   "cell_type": "code",
   "execution_count": 0,
   "metadata": {
    "collapsed": false
   },
   "outputs": [
   ],
   "source": [
    "## Exercise...\n",
    "\n",
    "## Sum the series 2/(n*(n+1)) for n = 1,2,...,10000\n",
    "\n",
    "sum([2/(n*(n+1)) for n in range(1,10001)])"
   ]
  },
  {
   "cell_type": "code",
   "execution_count": 42,
   "metadata": {
    "collapsed": false
   },
   "outputs": [
    {
     "data": {
      "text/plain": [
       "1.9998000199980015"
      ]
     },
     "execution_count": 42,
     "metadata": {
     },
     "output_type": "execute_result"
    }
   ],
   "source": [
    "# Another approach\n",
    "\n",
    "sum([2/(n*(n+1)) for n in range(1,10001)])"
   ]
  },
  {
   "cell_type": "code",
   "execution_count": 50,
   "metadata": {
    "collapsed": false
   },
   "outputs": [
    {
     "data": {
      "text/plain": [
       "[2, 3, 5, 7, 11, 13, 17, 19, 23, 29, 31, 37, 41, 43, 47, 53, 59, 61, 67, 71]"
      ]
     },
     "execution_count": 50,
     "metadata": {
     },
     "output_type": "execute_result"
    }
   ],
   "source": [
    "## The sieve of eratosthenes...\n",
    "import math\n",
    "N = 10000\n",
    "sqrtN = int(math.sqrt(N))\n",
    "numbers = range(2,N)\n",
    "is_prime = N*[True]\n",
    "## is_prime  = [True, True, True,...,True] one thousand times\n",
    "\n",
    "for n in numbers[:sqrtN+1]:\n",
    "    if not is_prime[n]:\n",
    "        continue\n",
    "    for j in range(2,N // n):\n",
    "        is_prime[j*n] = False\n",
    "\n",
    "primes_less_than_N = [p for p in numbers if is_prime[p]]\n",
    "primes_less_than_N[:20]"
   ]
  },
  {
   "cell_type": "code",
   "execution_count": 0,
   "metadata": {
    "collapsed": false
   },
   "outputs": [
   ],
   "source": [
    "## Exercise:\n",
    "\n",
    "## Cover up or delete the above code and try to do it again yourself"
   ]
  },
  {
   "cell_type": "code",
   "execution_count": 10,
   "metadata": {
    "collapsed": false
   },
   "outputs": [
   ],
   "source": [
    "## Exercise:\n",
    "\n",
    "##  Try to do a task from rosettacode in python:  http://www.rosettacode.org/wiki/Category:Programming_Tasks\n",
    "\n",
    "## Also, look at python solutions to other problems and try to understand them.  "
   ]
  },
  {
   "cell_type": "code",
   "execution_count": 19,
   "metadata": {
    "collapsed": false
   },
   "outputs": [
    {
     "name": "stdout",
     "output_type": "stream",
     "text": [
      "The unsorted list: [41, 36, 11, 16, 25, 36, 21, 26, 21, 0]\n",
      "The sorted list: [0, 11, 16, 21, 21, 25, 26, 36, 36, 41]\n"
     ]
    }
   ],
   "source": [
   ]
  },
  {
   "cell_type": "code",
   "execution_count": 16,
   "metadata": {
    "collapsed": false
   },
   "outputs": [
    {
     "data": {
      "text/plain": [
       "[]"
      ]
     },
     "execution_count": 16,
     "metadata": {
     },
     "output_type": "execute_result"
    }
   ],
   "source": [
    "  "
   ]
  },
  {
   "cell_type": "code",
   "execution_count": 0,
   "metadata": {
    "collapsed": false
   },
   "outputs": [
   ],
   "source": [
   ]
  }
 ],
 "metadata": {
  "kernelspec": {
   "display_name": "Python 3 (system-wide)",
   "language": "python",
   "metadata": {
    "cocalc": {
     "description": "Python 3 programming language",
     "priority": 100,
     "url": "https://www.python.org/"
    }
   },
   "name": "python3"
  },
  "language_info": {
   "codemirror_mode": {
    "name": "ipython",
    "version": 3
   },
   "file_extension": ".py",
   "mimetype": "text/x-python",
   "name": "python",
   "nbconvert_exporter": "python",
   "pygments_lexer": "ipython3",
   "version": "3.6.9"
  }
 },
 "nbformat": 4,
 "nbformat_minor": 0
}