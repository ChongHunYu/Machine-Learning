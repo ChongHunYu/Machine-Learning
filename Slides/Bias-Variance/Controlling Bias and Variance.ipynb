{
 "cells": [
  {
   "cell_type": "markdown",
   "metadata": {
    "collapsed": false
   },
   "source": [
    "### Regularization\n",
    "\n",
    "In some circumstances we might want to try a complex hypothesis on a small dataset.\n",
    "\n",
    "In such a scenario bias will be low, but variance will be high.\n",
    "\n",
    "In other words we will overfit.\n",
    "\n",
    "But there are methods for avoiding overfitting by restricting the way in which $\\mathcal{H}$ is explored.\n",
    "\n",
    "If we explore $\\mathcal{H}$ very conservatively maybe we can keep variance down while also keeping bias low.\n",
    "\n",
    "---\n",
    "\n",
    "### Early stopping\n",
    "\n",
    "One easy way to reduce variance is to explore less of $\\mathcal{H}$ during gradient descent or stochastic gradient descent.\n",
    "\n",
    "This method is called *early stopping*.\n",
    "\n",
    "We give an example below.\n",
    "\n"
   ]
  },
  {
   "cell_type": "code",
   "execution_count": 20,
   "metadata": {
    "collapsed": false
   },
   "outputs": [
   ],
   "source": [
    "from sklearn.datasets import load_boston\n",
    "import numpy as np\n",
    "\n",
    "X, y = load_boston(return_X_y=True)\n",
    "shuff = np.random.permutation(X.shape[0])\n",
    "X = X[shuff]\n",
    "y = y[shuff]"
   ]
  },
  {
   "cell_type": "code",
   "execution_count": 21,
   "metadata": {
    "collapsed": false
   },
   "outputs": [
    {
     "data": {
      "text/plain": [
       "((379, 14), (127, 14))"
      ]
     },
     "execution_count": 21,
     "metadata": {
     },
     "output_type": "execute_result"
    }
   ],
   "source": [
    "from sklearn.model_selection import train_test_split\n",
    "#np.random.seed(54634)#389247 #654654321\n",
    "rs = np.random.randint(100000)\n",
    "X_train,X_test,y_train,y_test = train_test_split(X,y,random_state=rs)\n",
    "\n",
    "from sklearn.preprocessing import MinMaxScaler\n",
    "scaler = MinMaxScaler()\n",
    "scaler.fit(X_train)\n",
    "X_train = scaler.transform(X_train)\n",
    "X_test = scaler.transform(X_test)\n",
    "X_train = np.c_[np.ones(X_train.shape[0]),X_train]\n",
    "X_test = np.c_[np.ones(X_test.shape[0]),X_test]\n",
    "X_train.shape,X_test.shape"
   ]
  },
  {
   "cell_type": "code",
   "execution_count": 22,
   "metadata": {
    "collapsed": false
   },
   "outputs": [
    {
     "data": {
      "text/plain": [
       "(0.7443930892271237, 0.7319344630386133)"
      ]
     },
     "execution_count": 22,
     "metadata": {
     },
     "output_type": "execute_result"
    }
   ],
   "source": [
    "from sklearn.linear_model import LinearRegression\n",
    "reg = LinearRegression()\n",
    "reg.fit(X_train,y_train)\n",
    "reg.score(X_test,y_test), reg.score(X_train,y_train)"
   ]
  },
  {
   "cell_type": "code",
   "execution_count": 23,
   "metadata": {
    "collapsed": false
   },
   "outputs": [
    {
     "name": "stdout",
     "output_type": "stream",
     "text": [
      "w (gradient descent) = [ 28.80321892 -10.83436169   4.32149668   0.80869171   2.28699621\n",
      "  -8.45605225  15.79126244  -0.85644796 -15.28751321   6.49199518\n",
      "  -5.92724429  -9.28384746   3.1803015  -18.47833904]\n",
      "R2 (gradient descent)= 0.7444570541099567\n"
     ]
    }
   ],
   "source": [
    "import mystuff as ms\n",
    "from sklearn.metrics import r2_score as R2\n",
    "from sklearn.metrics import mean_squared_error as MSE\n",
    "import numpy as np\n",
    "\n",
    "def mse(w,X,y):\n",
    "    return 1/X.shape[0]*(w.T.dot(X.T).dot(X).dot(w)-2*w.T.dot(X.T).dot(y)+y.dot(y))\n",
    "\n",
    "def mse_gradient(w,X,y):\n",
    "    return 2/X.shape[0]*(X.T.dot(X).dot(w)-X.T.dot(y))\n",
    "\n",
    "w_init = np.random.randn(X_train.shape[1])\n",
    "\n",
    "wgd,path = ms.grad_descent(w_init,X_train,y_train,mse_gradient,eta=0.07,max_iter=10000)\n",
    "\n",
    "y_test_hat = X_test.dot(wgd)\n",
    "\n",
    "print(\"w (gradient descent) = {}\".format(wgd))\n",
    "print(\"R2 (gradient descent)= {}\".format(R2(y_test,y_test_hat)))"
   ]
  },
  {
   "cell_type": "code",
   "execution_count": 24,
   "metadata": {
    "collapsed": false
   },
   "outputs": [
   ],
   "source": [
    "test_scores = [mse(w,X_test,y_test) for w in path]\n",
    "train_scores = [mse(w,X_train,y_train) for w in path]\n",
    "\n",
    "R2test_scores = [R2(X_test.dot(w),y_test) for w in path]\n",
    "R2train_scores = [R2(X_train.dot(w),y_train) for w in path]"
   ]
  },
  {
   "cell_type": "code",
   "execution_count": 25,
   "metadata": {
    "collapsed": false
   },
   "outputs": [
    {
     "data": {
      "image/png": "[encoded data removed]",
      "text/plain": [
       "<Figure size 432x288 with 1 Axes>"
      ]
     },
     "execution_count": 25,
     "metadata": {
      "needs_background": "light"
     },
     "output_type": "execute_result"
    },
    {
     "data": {
      "image/png": "[encoded data removed]",
      "text/plain": [
       "<Figure size 432x288 with 1 Axes>"
      ]
     },
     "execution_count": 25,
     "metadata": {
      "needs_background": "light"
     },
     "output_type": "execute_result"
    }
   ],
   "source": [
    "import matplotlib.pyplot as plt\n",
    "\n",
    "dom = range(len(test_scores))\n",
    "\n",
    "plt.ylim(min(test_scores)-0.5,min(test_scores)+2)\n",
    "plt.plot(dom,test_scores,label=\"test error (MSE)\")\n",
    "\n",
    "#plt.plot(dom,train_scores,label=\"train error\")\n",
    "plt.legend()\n",
    "plt.title(\"Test error at each time step\")\n",
    "plt.ylabel(\"MSE\")\n",
    "plt.xlabel(\"Iteration\")\n",
    "plt.show()\n",
    "\n",
    "\n",
    "plt.ylim(15,30)\n",
    "#plt.plot(dom,R2test_scores,label=\"test error (R2)\")\n",
    "plt.plot(dom,test_scores,label=\"test error (MSE)\")\n",
    "plt.plot(dom,train_scores,label=\"train error\")\n",
    "plt.legend()\n",
    "plt.title(\"Test error at each time step\")\n",
    "plt.ylabel(\"MSE\")\n",
    "plt.xlabel(\"Iteration\")\n",
    "plt.show()"
   ]
  },
  {
   "cell_type": "code",
   "execution_count": 26,
   "metadata": {
    "collapsed": false
   },
   "outputs": [
    {
     "name": "stdout",
     "output_type": "stream",
     "text": [
      "2553\n"
     ]
    },
    {
     "data": {
      "text/plain": [
       "(29.23689255089587, 19.93821861400058)"
      ]
     },
     "execution_count": 26,
     "metadata": {
     },
     "output_type": "execute_result"
    }
   ],
   "source": [
    "best_stop = np.argmin(test_scores)\n",
    "best_w = path[best_stop]\n",
    "print(best_stop)\n",
    "mse(best_w,X_test,y_test),mse(best_w,X_train,y_train)\n",
    "#R2(X_test.dot(best_w),y_test),R2(X_train.dot(best_w),y_train)"
   ]
  },
  {
   "cell_type": "code",
   "execution_count": 27,
   "metadata": {
    "collapsed": false
   },
   "outputs": [
    {
     "data": {
      "text/plain": [
       "29.493187198303566"
      ]
     },
     "execution_count": 27,
     "metadata": {
     },
     "output_type": "execute_result"
    }
   ],
   "source": [
    "last_w = path[-1]\n",
    "mse(last_w,X_test,y_test)"
   ]
  },
  {
   "cell_type": "markdown",
   "metadata": {
    "collapsed": false
   },
   "source": [
    "### Best stopping time\n",
    "\n",
    "The results above show that test error is minimized when we reach the 2553rd iteration of gradient descent (with these parameters).\n",
    "\n",
    "Note that this only applies to MSE in this example.\n",
    "\n",
    "We could easily automate the selection of this best parameter (in fact we kind of did).\n",
    "\n",
    "Also note that we \"snooped\" on the test set when we found the best $g \\in \\mathcal{H}$.  \n",
    "\n",
    "Now if we want to predict the true $E_{out}(g)$ we should use a reserve set of data (the validation set)."
   ]
  },
  {
   "cell_type": "code",
   "execution_count": 0,
   "metadata": {
    "collapsed": false
   },
   "outputs": [
   ],
   "source": [
   ]
  },
  {
   "cell_type": "code",
   "execution_count": 0,
   "metadata": {
    "collapsed": false
   },
   "outputs": [
   ],
   "source": [
   ]
  },
  {
   "cell_type": "code",
   "execution_count": 0,
   "metadata": {
    "collapsed": false
   },
   "outputs": [
   ],
   "source": [
   ]
  }
 ],
 "metadata": {
  "kernelspec": {
   "display_name": "Python 3 (system-wide)",
   "language": "python",
   "metadata": {
    "cocalc": {
     "description": "Python 3 programming language",
     "priority": 100,
     "url": "https://www.python.org/"
    }
   },
   "name": "python3"
  },
  "language_info": {
   "codemirror_mode": {
    "name": "ipython",
    "version": 3
   },
   "file_extension": ".py",
   "mimetype": "text/x-python",
   "name": "python",
   "nbconvert_exporter": "python",
   "pygments_lexer": "ipython3",
   "version": "3.7.5"
  }
 },
 "nbformat": 4,
 "nbformat_minor": 4
}