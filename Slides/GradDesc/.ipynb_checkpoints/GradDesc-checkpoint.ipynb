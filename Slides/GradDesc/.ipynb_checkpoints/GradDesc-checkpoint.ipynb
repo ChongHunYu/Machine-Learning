{
 "cells": [
  {
   "cell_type": "markdown",
   "metadata": {},
   "source": [
    "### Gradient Descent\n",
    "\n",
    "In these notes we give a simple example of the gradient descent optimization method.\n",
    "\n",
    "This method is useful for solving the equation \n",
    "\n",
    "$$\\nabla E_{in}(\\bar{w}) = \\bar{0}.$$\n",
    "\n",
    "We use this when $E_{in}(\\bar{w})$ does not have a simple form.\n",
    "\n",
    "In linear regression $E_{in}(\\bar{w})$ was simple enough that we could solve the equation using linear algebra, but for many algorithms (such as logistic regression) the equation is too complex to solve.\n",
    "\n",
    "Additionally this method has a \"cousin\" called Stochastic Gradient Descent which can be more efficient than even analytic solutions when the number of features $d$ is large.\n",
    "\n",
    "\n",
    "The gradient descent method can actually minimize $f$ for a wide variety of functions $f(\\bar{w})$.\n",
    "\n",
    "Below we use it to solve a simple paraboloid\n",
    "\n",
    "$$f(x,y) = x^2+y^2$$\n",
    "\n",
    "or\n",
    "\n",
    "$$f(w_0,w_1) = w_0^2+w_1^2$$\n",
    "\n",
    "This is very similar to the actual form of $E_{in}(\\bar{w})$ in linear regression, which is also a quadratic in $\\bar{w}$.\n"
   ]
  },
  {
   "cell_type": "markdown",
   "metadata": {},
   "source": [
    "### Explanation of the algorithm\n",
    "\n",
    "For a given input $\\bar{w}$, $\\nabla f(\\bar{w})$ is a vector **and** a function of $\\bar{w}$.\n",
    "\n",
    "It has a **magnitude** and a **direction**.\n",
    "\n",
    "The magnitude of $\\nabla f(\\bar{w})$ is the steepness of the hypersurface $z=f(\\bar{w})$ at the particular point $\\bar{w}$.\n",
    "\n",
    "The direction of $\\nabla f(\\bar{w})$ is the direction of steepest increase.\n",
    "\n",
    "If $f$ is an error function, then we actually want the direction of steepest **decrease** which is just $-\\nabla f(\\bar{w})$.\n",
    "\n",
    "When looking for the $\\bar{w}$ that minimizes a function $f$, one strategy is to start with some initial $\\bar{w}$ (such as the zero vector, or a random vector near the zero vector) and repeatedly **follow the gradient** \"downhill\".\n",
    "\n",
    "#### Learning rate\n",
    "\n",
    "Unfortunately sometimes the gradient is so big that you will jump right past the minimum.\n",
    "\n",
    "To mitigate this, we \"shrink\" the gradient so that we only take a baby step.\n",
    "\n",
    "The factor that scales down the gradient is called the **learning rate**.\n",
    "\n",
    "We denote it by $\\eta$ and a good initial guess for a good $\\eta$ is 0.1.  \n",
    "\n",
    "As we will see below, this may be too big or too small, and in that case it must be adjusted.\n",
    "\n",
    "#### Pseudocode\n",
    "\n",
    "This brings us to the pseudocode for gradient descent:\n",
    "\n",
    "\n",
    "---\n",
    "\n",
    "$\\bar{w}$ = initial $\\bar{w}$\n",
    "\n",
    "until time to stop:\n",
    "\n",
    "$\\,\\,\\,\\,\\,\\bar{w} = \\bar{w} - \\eta\\bar{w}$\n",
    "\n",
    "---\n",
    "\n",
    "In the slides below we discuss strategies for deciding when to stop.\n",
    "\n",
    "One simple strategy that usually works pretty well is just to do 1000 iterations and hope for the best.\n"
   ]
  },
  {
   "cell_type": "code",
   "execution_count": 1,
   "metadata": {},
   "outputs": [
    {
     "data": {
      "text/plain": [
       "<Figure size 640x480 with 2 Axes>"
      ]
     },
     "metadata": {},
     "output_type": "display_data"
    }
   ],
   "source": [
    "import numpy as np\n",
    "import matplotlib.pyplot as plt\n",
    "\n",
    "xx = np.linspace(-4,4)\n",
    "yy = np.linspace(-4,4)\n",
    "\n",
    "XX,YY = np.meshgrid(xx,yy)\n",
    "\n",
    "Z = XX**2 + YY**2\n",
    "\n",
    "plt.contourf(XX,YY,Z)\n",
    "plt.colorbar()\n",
    "plt.title(r\"$f(x,y) = x^2+y^2$\")\n",
    "plt.show()\n"
   ]
  },
  {
   "cell_type": "markdown",
   "metadata": {},
   "source": [
    "### Implementing Gradient Descent\n",
    "\n",
    "You yourself will implement gradient descent, so I will not give explicit code here.\n",
    "\n",
    "But we can still describe the form the function should take.\n",
    "\n",
    "In our specs `grad_descent` will take two necessary parameters: `w` and `gradient`.\n",
    "\n",
    "The first parameter is the initial value for $\\bar{w}$. This should generally be randomly generated from a normal distribution with small variance, though often the zero vector will work fine. \n",
    "\n",
    "The `gradient` parameter is a *function*.  In python you can pass a function as a parameter just as you would pass any other parameter. \n",
    "\n",
    "In the code below we have a function for the gradient of a paraboloid called `grad_paraboloid`.\n",
    "\n",
    "This simple function just returns $\\nabla f = 2\\bar{w}$.\n",
    "\n",
    "You should think about why $2[w_0,w_1]^T$ is the gradient of $f(w_0,w_1) = w_0^2 + w_1^2$.\n",
    "\n",
    "This implementation of gradient descent also returns the path taken by the \"ball\" as it rolls down the hill. \n",
    "\n",
    "This lets us make pretty pictures, but it can be useful for seeing whether convergence is happening also. \n",
    "\n"
   ]
  },
  {
   "cell_type": "code",
   "execution_count": 2,
   "metadata": {},
   "outputs": [],
   "source": [
    "from mystuff import grad_descent\n",
    "\n",
    "X = np.array([])  ## In these toy examples X and y don't matter\n",
    "y = np.array([])  ## but in real error functions they do\n",
    "\n",
    "\n",
    "def grad_paraboloid(w,X,y):\n",
    "    return 2*w\n",
    "\n",
    "\n",
    "\n",
    "\n",
    "import mystuff as ms\n",
    "\n",
    "\n",
    "w = np.array([3.5,-3])\n",
    "w,path = grad_descent(w,X,y,grad_paraboloid)\n"
   ]
  },
  {
   "cell_type": "markdown",
   "metadata": {},
   "source": [
    "### Picture time!\n",
    "\n",
    "We now make a picture which superimposes the first 15 steps taken by the \"ball\" on the contour plot for $f$.\n",
    "\n",
    "You can see that the ball is rapidly \"rolling downhill\"."
   ]
  },
  {
   "cell_type": "code",
   "execution_count": 3,
   "metadata": {},
   "outputs": [
    {
     "data": {
      "image/png": "[encoded data removed]",
      "text/plain": [
       "<Figure size 432x288 with 2 Axes>"
      ]
     },
     "metadata": {
      "needs_background": "light"
     },
     "output_type": "display_data"
    }
   ],
   "source": [
    "\n",
    "xx = np.linspace(-4,4)\n",
    "yy = np.linspace(-4,4)\n",
    "\n",
    "XX,YY = np.meshgrid(xx,yy)\n",
    "\n",
    "Z = XX**2 + YY**2\n",
    "plt.contourf(XX,YY,Z)\n",
    "plt.colorbar()\n",
    "\n",
    "plt.scatter(path[:15,0],path[:15,1],c='r')\n",
    "plt.title(\"Everything just right\")\n",
    "plt.show()\n"
   ]
  },
  {
   "cell_type": "markdown",
   "metadata": {},
   "source": [
    "### Numerical look\n",
    "\n",
    "By printing our the path we can get a feel for whether convergence is happening.\n",
    "\n",
    "In this case the algorithm is settling down to the true optimum, $\\bar{w} = [0,0]^T$.\n"
   ]
  },
  {
   "cell_type": "code",
   "execution_count": 4,
   "metadata": {},
   "outputs": [
    {
     "name": "stdout",
     "output_type": "stream",
     "text": [
      "[ 3.5 -3. ]\n",
      "[ 2.8 -2.4]\n",
      "[ 2.24 -1.92]\n",
      "[ 1.792 -1.536]\n",
      "[ 1.4336 -1.2288]\n",
      "[ 1.14688 -0.98304]\n",
      "[ 0.917504 -0.786432]\n",
      "[ 0.7340032 -0.6291456]\n",
      "[ 0.58720256 -0.50331648]\n",
      "[ 0.46976205 -0.40265318]\n",
      "[ 0.37580964 -0.32212255]\n",
      "[ 0.30064771 -0.25769804]\n",
      "[ 0.24051817 -0.20615843]\n",
      "[ 0.19241453 -0.16492674]\n",
      "[ 0.15393163 -0.1319414 ]\n"
     ]
    }
   ],
   "source": [
    "for p in path[:15]:\n",
    "    print(p)"
   ]
  },
  {
   "cell_type": "markdown",
   "metadata": {},
   "source": [
    "### Learning rate\n",
    "\n",
    "In the above example we got the learning rate $\\eta=0.1$ just right for the function $f$.\n",
    "\n",
    "We now consider what would happen if the learning rate were a lot smaller for this problem.\n",
    "\n",
    "What do you think will happen?\n"
   ]
  },
  {
   "cell_type": "code",
   "execution_count": 5,
   "metadata": {},
   "outputs": [
    {
     "data": {
      "image/png": "[encoded data removed]",
      "text/plain": [
       "<Figure size 432x288 with 2 Axes>"
      ]
     },
     "metadata": {
      "needs_background": "light"
     },
     "output_type": "display_data"
    }
   ],
   "source": [
    "\n",
    "w = np.array([3.5,-3])\n",
    "w,path=grad_descent(w,X,y,grad_paraboloid,eta=0.01)\n",
    "\n",
    "xx = np.linspace(-4,4)\n",
    "yy = np.linspace(-4,4)\n",
    "\n",
    "XX,YY = np.meshgrid(xx,yy)\n",
    "\n",
    "Z = XX**2 + YY**2\n",
    "plt.contourf(XX,YY,Z)\n",
    "plt.colorbar()\n",
    "\n",
    "plt.scatter(path[:15,0],path[:15,1],c='r')\n",
    "plt.title(\"Learning rate too small\")\n",
    "plt.show()\n"
   ]
  },
  {
   "cell_type": "markdown",
   "metadata": {},
   "source": [
    "### A harder case\n",
    "\n",
    "Our version of gradient descent worked great for a very simple function.\n",
    "\n",
    "Let's give it a \"worse\" $f$ to optimize. \n",
    "\n",
    "This will be a paraboloid which is squeezed flat along the $x$-axis:\n",
    "\n",
    "$$f(w_0,w_1) = 12w_0^2 + w_1^2$$\n",
    "\n",
    "This is what the error function might look like if your data is in need of scaling -- one dimension is dominating the others.\n"
   ]
  },
  {
   "cell_type": "code",
   "execution_count": 6,
   "metadata": {},
   "outputs": [
    {
     "name": "stdout",
     "output_type": "stream",
     "text": [
      "[ 20.5 -28. ]\n"
     ]
    }
   ],
   "source": [
    "def grad_ec_paraboloid(w,X,y):\n",
    "    return w*np.array([24,2])\n",
    "\n",
    "\n",
    "w = np.array([20.5,-28])\n",
    "print(w)\n",
    "w,path=grad_descent(w,X,y,grad_ec_paraboloid,eta=0.1)\n",
    "\n"
   ]
  },
  {
   "cell_type": "markdown",
   "metadata": {},
   "source": [
    "### Hmmm\n",
    "\n",
    "This time when we look at `path` the numbers don't seem to be converging.  This is what thrashing around looks like.\n"
   ]
  },
  {
   "cell_type": "code",
   "execution_count": 7,
   "metadata": {},
   "outputs": [
    {
     "data": {
      "text/plain": [
       "array([[ 2.05000000e+01, -2.80000000e+01],\n",
       "       [-2.87000000e+01, -2.24000000e+01],\n",
       "       [ 4.01800000e+01, -1.79200000e+01],\n",
       "       [-5.62520000e+01, -1.43360000e+01],\n",
       "       [ 7.87528000e+01, -1.14688000e+01],\n",
       "       [-1.10253920e+02, -9.17504000e+00],\n",
       "       [ 1.54355488e+02, -7.34003200e+00],\n",
       "       [-2.16097683e+02, -5.87202560e+00],\n",
       "       [ 3.02536756e+02, -4.69762048e+00],\n",
       "       [-4.23551459e+02, -3.75809638e+00],\n",
       "       [ 5.92972043e+02, -3.00647711e+00],\n",
       "       [-8.30160860e+02, -2.40518169e+00],\n",
       "       [ 1.16222520e+03, -1.92414535e+00],\n",
       "       [-1.62711529e+03, -1.53931628e+00],\n",
       "       [ 2.27796140e+03, -1.23145302e+00]])"
      ]
     },
     "execution_count": 7,
     "metadata": {},
     "output_type": "execute_result"
    }
   ],
   "source": [
    "path[:15]"
   ]
  },
  {
   "cell_type": "markdown",
   "metadata": {},
   "source": [
    "### Another visual\n",
    "\n",
    "We try to visualize the movement of the \"ball\" as we did last time.\n",
    "\n",
    "However in this case we can only see 3 time steps before the ball \"flies offscreen\".\n",
    "\n"
   ]
  },
  {
   "cell_type": "code",
   "execution_count": 8,
   "metadata": {},
   "outputs": [
    {
     "data": {
      "image/png": "[encoded data removed]",
      "text/plain": [
       "<Figure size 432x288 with 2 Axes>"
      ]
     },
     "metadata": {
      "needs_background": "light"
     },
     "output_type": "display_data"
    }
   ],
   "source": [
    "xx = np.linspace(-20,20)\n",
    "yy = np.linspace(-30,30)\n",
    "\n",
    "XX,YY = np.meshgrid(xx,yy)\n",
    "\n",
    "Z = 12*XX**2 + YY**2\n",
    "\n",
    "plt.contourf(XX,YY,Z)\n",
    "plt.colorbar()\n",
    "plt.scatter(path[:3,0],path[:3,1],c='r')\n",
    "plt.title(\"Learning rate too big and data needs scaling\")\n",
    "plt.show()\n"
   ]
  },
  {
   "cell_type": "markdown",
   "metadata": {},
   "source": [
    "### Learning rate too large!\n",
    "\n",
    "The above situation was bad for two reasons.\n",
    "\n",
    "One is that the learning rate is too big for this problem.  \n",
    "\n",
    "The very steep gradient is overwhelming $\\eta=0.1$ and making the ball take huge leaps.\n",
    "\n",
    "The leaps are so large that the ball is flying out of the basin. \n",
    "\n",
    "\n",
    "Let's try again with $\\eta$ an order of magnitude smaller."
   ]
  },
  {
   "cell_type": "code",
   "execution_count": 9,
   "metadata": {},
   "outputs": [
    {
     "name": "stdout",
     "output_type": "stream",
     "text": [
      "[ 20.5 -28. ]\n"
     ]
    },
    {
     "data": {
      "text/plain": [
       "array([[ 20.5       , -28.        ],\n",
       "       [ 15.58      , -27.44      ],\n",
       "       [ 11.8408    , -26.8912    ],\n",
       "       [  8.999008  , -26.353376  ],\n",
       "       [  6.83924608, -25.82630848],\n",
       "       [  5.19782702, -25.30978231],\n",
       "       [  3.95034854, -24.80358666],\n",
       "       [  3.00226489, -24.30751493],\n",
       "       [  2.28172131, -23.82136463],\n",
       "       [  1.7341082 , -23.34493734],\n",
       "       [  1.31792223, -22.87803859],\n",
       "       [  1.0016209 , -22.42047782],\n",
       "       [  0.76123188, -21.97206826],\n",
       "       [  0.57853623, -21.5326269 ],\n",
       "       [  0.43968753, -21.10197436]])"
      ]
     },
     "execution_count": 9,
     "metadata": {},
     "output_type": "execute_result"
    }
   ],
   "source": [
    "\n",
    "w = np.array([20.5,-28])\n",
    "print(w)\n",
    "w,path=grad_descent(w,X,y,grad_ec_paraboloid,eta=0.01)\n",
    "path[:15]\n"
   ]
  },
  {
   "cell_type": "code",
   "execution_count": 10,
   "metadata": {},
   "outputs": [
    {
     "data": {
      "image/png": "[encoded data removed]",
      "text/plain": [
       "<Figure size 432x288 with 2 Axes>"
      ]
     },
     "metadata": {
      "needs_background": "light"
     },
     "output_type": "display_data"
    }
   ],
   "source": [
    "xx = np.linspace(-20,20)\n",
    "yy = np.linspace(-30,30)\n",
    "\n",
    "XX,YY = np.meshgrid(xx,yy)\n",
    "\n",
    "Z = 12*XX**2 + YY**2\n",
    "\n",
    "plt.contourf(XX,YY,Z)\n",
    "plt.colorbar()\n",
    "plt.scatter(path[:,0],path[:,1],c='r',alpha=0.1)\n",
    "plt.title(\"Learning rate is fine but convergence is slow\")\n",
    "plt.show()"
   ]
  },
  {
   "cell_type": "markdown",
   "metadata": {},
   "source": [
    "### Slow convergence\n",
    "\n",
    "In the above image you can see that the ball quickly rolls down to the valley floor.\n",
    "\n",
    "But the valley floor is kind of flat, and rolling the rest of the way to the minimum takes a long time.\n",
    "\n",
    "Whereas the ball reached the center in about 15 steps for the circularly symmetric error function,\n",
    "\n",
    "this time it barely reaches the center even after 1000 steps.\n",
    "\n",
    "### Scaling\n",
    "\n",
    "The effect of scaling the data here would be to go back to the circularly symmetric case.\n",
    "\n",
    "Convergence would happen much faster.\n",
    "\n",
    "**You should always scale the data when using gradient descent**\n",
    "\n",
    "### Intelligently controling the learning rate\n",
    "\n",
    "Another technique we might try here is to dynamically alter the learning rate to try to \"roll fast\" over flat valleys.\n",
    "\n",
    "That may or may not help depending on the problem.\n",
    "\n"
   ]
  },
  {
   "cell_type": "markdown",
   "metadata": {},
   "source": [
    "### The non-convex case\n",
    "\n",
    "In the above examples the error function was **convex**.\n",
    "\n",
    "This means that there is a **unique minimum or maximum**, which in the case of an error function will be the *global minimum*.\n",
    "\n",
    "The error function for both linear regression and logistic regression are nice and convex.\n",
    "\n",
    "*However* in other cases the error function may not be convex.\n",
    "\n",
    "This happens in particular for *neural networks*.\n",
    "\n",
    "We have to be conscious that for non-convex functions gradient descent can converge to a **local minimum** which is not a **global miniumum**.\n",
    "\n",
    "Below we consider gradient descent for a non-convex function which has 3 critical points, two of which are local minima.\n"
   ]
  },
  {
   "cell_type": "code",
   "execution_count": 11,
   "metadata": {},
   "outputs": [
    {
     "data": {
      "image/png": "[encoded data removed]",
      "text/plain": [
       "<Figure size 432x288 with 2 Axes>"
      ]
     },
     "metadata": {
      "needs_background": "light"
     },
     "output_type": "display_data"
    }
   ],
   "source": [
    "import numpy as np\n",
    "import matplotlib.pyplot as plt\n",
    "\n",
    "xx = np.linspace(-4,4)\n",
    "yy = np.linspace(-4,4)\n",
    "\n",
    "XX,YY = np.meshgrid(xx,yy)\n",
    "\n",
    "Z = XX**4 + YY**4-16*XX*YY\n",
    "\n",
    "plt.contourf(XX,YY,Z)\n",
    "plt.colorbar()\n",
    "plt.title(r\"$f(x,y) = x^4+y^4-16xy$\")\n",
    "plt.show()"
   ]
  },
  {
   "cell_type": "markdown",
   "metadata": {},
   "source": [
    "### The gradient\n",
    "\n",
    "Below we compute \n",
    "\n",
    "$$\\nabla(x^4+y^4-16xy) = [4x^3-16y,4y^3-16x]^T$$."
   ]
  },
  {
   "cell_type": "code",
   "execution_count": 12,
   "metadata": {},
   "outputs": [],
   "source": [
    "def grad_nonconv(w,X,y):\n",
    "    return np.array([4*w[0]**3-16*w[1],4*w[1]**3-16*w[0]])"
   ]
  },
  {
   "cell_type": "markdown",
   "metadata": {},
   "source": [
    "### Four paths\n",
    "\n",
    "Below we show the eventual fate of gradient descent for four different starting positions.\n",
    "\n",
    "#### Stuck on the head of a pin\n",
    "\n",
    "Notice that one starting point is (0,0), plotted in yellow.  \n",
    "\n",
    "Though this is not a max or a min, the process gets stalled there, because the gradient is zero at (0,0).\n",
    "\n",
    "The ball is balanced in a very strange place.\n",
    "\n",
    "This illustrates why $\\bar{w}=\\bar{0}$ can be problematic as initial starting weights.\n"
   ]
  },
  {
   "cell_type": "code",
   "execution_count": 13,
   "metadata": {},
   "outputs": [
    {
     "data": {
      "image/png": "[encoded data removed]",
      "text/plain": [
       "<Figure size 432x288 with 2 Axes>"
      ]
     },
     "metadata": {
      "needs_background": "light"
     },
     "output_type": "display_data"
    },
    {
     "data": {
      "image/png": "[encoded data removed]",
      "text/plain": [
       "<Figure size 432x288 with 2 Axes>"
      ]
     },
     "metadata": {
      "needs_background": "light"
     },
     "output_type": "display_data"
    }
   ],
   "source": [
    "w = np.array([3.5,-3])\n",
    "w,path=grad_descent(w,X,y,grad_nonconv,eta=0.001)\n",
    "\n",
    "w = np.array([-2,3])\n",
    "w,path2=grad_descent(w,X,y,grad_nonconv,eta=0.001)\n",
    "\n",
    "w = np.array([0,0])\n",
    "w,path3=grad_descent(w,X,y,grad_nonconv,eta=0.001)\n",
    "\n",
    "w = np.array([-3,0])\n",
    "w,path4=grad_descent(w,X,y,grad_nonconv,eta=0.001)\n",
    "\n",
    "\n",
    "xx = np.linspace(-4,4)\n",
    "yy = np.linspace(-4,4)\n",
    "\n",
    "XX,YY = np.meshgrid(xx,yy)\n",
    "\n",
    "Z = XX**4 + YY**4-16*XX*YY\n",
    "plt.contourf(XX,YY,Z)\n",
    "plt.colorbar()\n",
    "\n",
    "steps=30\n",
    "\n",
    "plt.scatter(path[:steps,0],path[:steps,1],c='r')\n",
    "plt.scatter(path2[:steps,0],path2[:steps,1],c='orange')\n",
    "plt.scatter(path3[:steps,0],path3[:steps,1],c='yellow')\n",
    "plt.scatter(path4[:steps,0],path4[:steps,1],c='blue')\n",
    "plt.title(\"Part way\")\n",
    "plt.show()\n",
    "\n",
    "\n",
    "plt.contourf(XX,YY,Z)\n",
    "plt.colorbar()\n",
    "\n",
    "steps=300\n",
    "\n",
    "plt.scatter(path[:steps,0],path[:steps,1],c='r')\n",
    "plt.scatter(path2[:steps,0],path2[:steps,1],c='orange')\n",
    "plt.scatter(path3[:steps,0],path3[:steps,1],c='yellow')\n",
    "plt.scatter(path4[:steps,0],path4[:steps,1],c='blue')\n",
    "plt.title(\"All the way\")\n",
    "plt.show()\n",
    "\n"
   ]
  },
  {
   "cell_type": "markdown",
   "metadata": {},
   "source": [
    "### Stopping conditions\n",
    "\n",
    "In the above examples we just ran gradient descent for 1000 iterations and hoped for the best.\n",
    "\n",
    "No fixed amount of iterations is appropriate for every problem.\n",
    "\n",
    "#### Small gradient\n",
    "\n",
    "Another approach would be to stop when the magnitude of the gradient drops below a given amount $\\epsilon$.\n",
    "\n",
    "#### Error still decreasing\n",
    "\n",
    "Still another strategy would be to keep running the process as long as the error keeps decreasing.\n",
    "\n",
    "\n",
    "#### Hybrid strategy\n",
    "\n",
    "In practice a hybrid combination of these strategies works well.\n",
    "\n",
    "We run for at most some large number of iterations, but stop early if error stops decreasing or the gradient magnitude gets sufficiently small.\n",
    "\n",
    "\n",
    "### Example\n",
    "\n",
    "Below we look at what happens to the magnitudes of the gradients along the blue path in the above plot.\n",
    "\n",
    "Note that they are initially large, but they decrease toward 0."
   ]
  },
  {
   "cell_type": "code",
   "execution_count": 14,
   "metadata": {},
   "outputs": [],
   "source": [
    "L = [grad_nonconv(ww,X,y) for ww in path4]\n",
    "blue_gradients = np.linalg.norm(L,axis=1)"
   ]
  },
  {
   "cell_type": "code",
   "execution_count": 21,
   "metadata": {},
   "outputs": [
    {
     "data": {
      "image/png": "[encoded data removed]",
      "text/plain": [
       "<Figure size 432x288 with 1 Axes>"
      ]
     },
     "metadata": {
      "needs_background": "light"
     },
     "output_type": "display_data"
    }
   ],
   "source": [
    "#blue_gradients[:300]\n",
    "plt.plot(np.arange(len(blue_gradients)),blue_gradients)\n",
    "plt.title(\"Magnitude of gradient over time steps\")\n",
    "plt.ylabel(\"Gradient magnitude\")\n",
    "plt.xlabel(\"Time step\")\n",
    "plt.show()"
   ]
  },
  {
   "cell_type": "code",
   "execution_count": 16,
   "metadata": {},
   "outputs": [
    {
     "data": {
      "text/plain": [
       "array([1.28621974e-12, 1.24602538e-12, 1.20583101e-12, 1.16563664e-12,\n",
       "       1.12544227e-12, 1.08524791e-12, 1.05510213e-12, 1.02495636e-12,\n",
       "       9.94810582e-13, 9.64664807e-13])"
      ]
     },
     "execution_count": 16,
     "metadata": {},
     "output_type": "execute_result"
    }
   ],
   "source": [
    "## Last 10\n",
    "blue_gradients[-10:]"
   ]
  },
  {
   "cell_type": "markdown",
   "metadata": {},
   "source": [
    "### Example: error differences\n",
    "\n",
    "Below we look at how the change in error progresses as we go along the blue path.\n",
    "\n",
    "These values are $f(p_{i+1})-f(p_i)$ for points $p_i$ along the path.\n",
    "\n",
    "Because the path is decreasing into the bowl, these values are negative.\n",
    "\n",
    "Notice that the improvements are large at first, but eventually become small when the ball reaches the valley floor."
   ]
  },
  {
   "cell_type": "code",
   "execution_count": 17,
   "metadata": {},
   "outputs": [],
   "source": [
    "def f(w):\n",
    "    return w[1]**4+w[0]**4-16*w[0]*w[1]\n",
    "blue_err_diffs = np.diff(list(map(f,path4)))"
   ]
  },
  {
   "cell_type": "code",
   "execution_count": 25,
   "metadata": {},
   "outputs": [
    {
     "data": {
      "image/png": "[encoded data removed]",
      "text/plain": [
       "<Figure size 432x288 with 1 Axes>"
      ]
     },
     "metadata": {
      "needs_background": "light"
     },
     "output_type": "display_data"
    }
   ],
   "source": [
    "plt.plot(np.arange(len(blue_err_diffs)),blue_err_diffs)\n",
    "plt.title(\"Error differences over time\")\n",
    "plt.ylabel(r\"$E_{in}(w_{t+1})-E_{in}(w_{t})$\")\n",
    "plt.xlabel(\"Time step\")\n",
    "plt.show()"
   ]
  },
  {
   "cell_type": "code",
   "execution_count": 19,
   "metadata": {},
   "outputs": [
    {
     "data": {
      "text/plain": [
       "array([0., 0., 0., 0., 0., 0., 0., 0., 0., 0.])"
      ]
     },
     "execution_count": 19,
     "metadata": {},
     "output_type": "execute_result"
    }
   ],
   "source": [
    "## Last 10\n",
    "blue_err_diffs[-10:]"
   ]
  },
  {
   "cell_type": "code",
   "execution_count": null,
   "metadata": {},
   "outputs": [],
   "source": []
  }
 ],
 "metadata": {
  "kernelspec": {
   "display_name": "Python 3",
   "language": "python",
   "name": "python3"
  },
  "language_info": {
   "codemirror_mode": {
    "name": "ipython",
    "version": 3
   },
   "file_extension": ".py",
   "mimetype": "text/x-python",
   "name": "python",
   "nbconvert_exporter": "python",
   "pygments_lexer": "ipython3",
   "version": "3.7.5"
  }
 },
 "nbformat": 4,
 "nbformat_minor": 2
}
