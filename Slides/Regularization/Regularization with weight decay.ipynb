{
 "cells": [
  {
   "cell_type": "markdown",
   "metadata": {
    "collapsed": false
   },
   "source": [
    "## Forms of weight decay...\n",
    "\n",
    "These error functions all penalize \"complex\" hypotheses by punishing weights $\\bar{w}$ with a large norm.\n",
    "\n",
    "There are three basic strategies:\n",
    "\n",
    "1. Punish $|\\!|\\bar{w}|\\!|^2$ where $|\\!|\\bar{w}|\\!|$ is the [L2 norm](https://mathworld.wolfram.com/L2-Norm.html)\n",
    "2. Punish $|\\!|\\bar{w}|\\!|_1$ where $|\\!|\\bar{w}|\\!|_1$ is the [L1 norm](https://mathworld.wolfram.com/L1-Norm.html)\n",
    "3. Punish a weighted combination of the options from (1) and (2)\n",
    "\n",
    "Note that\n",
    "\n",
    "$|\\!|\\bar{w}|\\!|^2 = \\sum_{i=0}^d w_i^2$\n",
    "\n",
    "and\n",
    "\n",
    "$|\\!|\\bar{w}|\\!|_1 = \\sum_{i=0}^d |w_i|$\n",
    "\n",
    "When the underlying model is linear regression, \n",
    "\n",
    "(1) is called Ridge regression\n",
    "\n",
    "(2) is called LASSO\n",
    "\n",
    "(3) is called [Elastic Net](https://en.wikipedia.org/wiki/Elastic_net_regularization)\n",
    "\n",
    "There is a nice discussion of Ridge and LASSO here: https://towardsdatascience.com/ridge-and-lasso-regression-a-complete-guide-with-python-scikit-learn-e20e34bcbf0b\n",
    "\n",
    "\n",
    "The LASSO approach tends to perform \"feature selection\" because in the resulting solution many dimensions of the weight vector will be zero.  (picture from [here](https://towardsdatascience.com/ridge-and-lasso-regression-a-complete-guide-with-python-scikit-learn-e20e34bcbf0b))\n",
    "\n",
    "![img](L1_vs_L2.png)\n",
    "\n",
    "\n",
    "Many interesting and informative plots on regularization can be found here:\n",
    "\n",
    "\n",
    "https://github.com/ageron/handson-ml/blob/master/04_training_linear_models.ipynb\n",
    "\n"
   ]
  },
  {
   "cell_type": "markdown",
   "metadata": {
    "collapsed": false
   },
   "source": [
    "### Formulas\n",
    "\n",
    "#### L2\n",
    "\n",
    "$E_{aug}(\\bar{w}) = E_{in}(\\bar{w}) + \\lambda\\sum_{i=0}^d w_i^2$\n",
    "\n",
    "#### L1\n",
    "\n",
    "$E_{aug}(\\bar{w}) = E_{in}(\\bar{w}) + \\lambda\\sum_{i=0}^d |w_i|$\n",
    "\n",
    "#### Elastic Net\n",
    "\n",
    "$E_{aug}(\\bar{w}) = E_{in}(\\bar{w}) + \\lambda(r\\sum_{i=0}^d |w_i| +(1-r)\\sum_{i=0}^d w_i^2)$\n",
    "\n",
    "where $0 \\leq r \\leq 1$.\n",
    "\n"
   ]
  },
  {
   "cell_type": "code",
   "execution_count": 0,
   "metadata": {
    "collapsed": false
   },
   "outputs": [
   ],
   "source": [
   ]
  }
 ],
 "metadata": {
  "kernelspec": {
   "display_name": "Python 3 (system-wide)",
   "language": "python",
   "metadata": {
    "cocalc": {
     "description": "Python 3 programming language",
     "priority": 100,
     "url": "https://www.python.org/"
    }
   },
   "name": "python3"
  },
  "language_info": {
   "codemirror_mode": {
    "name": "ipython",
    "version": 3
   },
   "file_extension": ".py",
   "mimetype": "text/x-python",
   "name": "python",
   "nbconvert_exporter": "python",
   "pygments_lexer": "ipython3",
   "version": "3.6.9"
  }
 },
 "nbformat": 4,
 "nbformat_minor": 4
}