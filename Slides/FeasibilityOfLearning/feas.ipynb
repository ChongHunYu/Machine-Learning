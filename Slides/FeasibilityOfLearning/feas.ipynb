{
 "cells": [
  {
   "cell_type": "markdown",
   "metadata": {
    "collapsed": false
   },
   "source": [
    "### Feasibility of learning\n",
    "\n",
    "Consider the basic problem in supervised learning:\n",
    "\n",
    "The learner gets to see a finite sample $\\mathcal{D} = \\{(\\bar{x}_1,y_1,\\ldots,\\bar{x}_n,y_n)\\}$\n",
    "\n",
    "from an unknown target function $f:\\mathcal{X}\\rightarrow\\mathcal{Y}$.\n",
    "\n",
    "You want to predict what $f$ would do on a new instance $\\bar{x} \\in \\mathcal{X}$ which is not in the sample.\n"
   ]
  },
  {
   "cell_type": "markdown",
   "metadata": {
    "collapsed": false
   },
   "source": [
    "### Feasibility of learning\n",
    "\n",
    "Let  $\\mathcal{X}=\\mathbb{Z}$ and $\\mathcal{Y} = \\{0,1\\}$.\n",
    "\n",
    "Suppose $\\mathcal{D} = \\{(1,0),(2,0),(3,0)\\}$.\n",
    "\n",
    "That means $f(1)=f(2)=f(3)=0$.\n",
    "\n",
    "Consider $f(4)$. \n",
    "\n",
    "What should we guess that it is?  \n",
    "\n",
    "Why?  How do we know that $f$ is not a very complicated rule?\n",
    "\n",
    "If $f$ can really be anything then there is no reason to have any belief about the values of $f$ outside $\\mathcal{D}$."
   ]
  },
  {
   "cell_type": "markdown",
   "metadata": {
    "collapsed": false
   },
   "source": [
    "### A different question\n",
    "\n",
    "Rather than tackling this tough problem head on we will try to answer an easier one.\n",
    "\n",
    "* Given a function $h:\\mathcal{X} \\rightarrow \\mathcal{Y}$, how similar is $h$ to $f$?\n",
    "\n",
    "To make *this* question make sense, we assume that there is some probability distribution $P$ over $\\mathcal{X}$ from which the examples in $\\mathcal{D}$ are drawn. \n",
    "\n",
    "This corresponds to real life:  There seems to be some real probability distribution that determines the features of the people you meet, the cars you see, the trees in the forest, etc.\n"
   ]
  },
  {
   "cell_type": "markdown",
   "metadata": {
    "collapsed": false
   },
   "source": [
    "### The distribution on $\\mathcal{X}$\n",
    "\n",
    "Suppose that $\\mathcal{X}$ are the features of frogs: length, weight, tongue length, color\n",
    "\n",
    "All of these features could take on any value in principle.\n",
    "\n",
    "But which ones are you likely to actually see?\n",
    "\n",
    "Those are the ones in $\\mathcal{D}$. "
   ]
  },
  {
   "cell_type": "markdown",
   "metadata": {
    "collapsed": false
   },
   "source": [
    "![img](https://external-content.duckduckgo.com/iu/?u=https%3A%2F%2Fi.ytimg.com%2Fvi%2FkT3sktb6U0E%2Fhqdefault.jpg&f=1&nofb=1)"
   ]
  },
  {
   "cell_type": "markdown",
   "metadata": {
    "collapsed": false
   },
   "source": [
    "### The distribution on $\\mathcal{X}$\n",
    "\n",
    "In our cat classification exercise we imagined that $\\mathcal{X}$ is all 256x256 pixel images.\n",
    "\n",
    "Which of those are you likely to actually see on the internet, or as a result of taking a photograph?\n",
    "\n",
    "\n",
    "$\\mathcal{D}$ gives us a sample showing which $\\bar{x}\\in \\mathcal{X}$ are likely to be encountered.  \n",
    "\n",
    "This is what $P$ is.\n",
    "\n"
   ]
  },
  {
   "cell_type": "markdown",
   "metadata": {
    "collapsed": false
   },
   "source": [
    "### How good is a hypothesis $h$?\n",
    "\n",
    "The measure of how well $h:\\mathcal{X} \\rightarrow \\mathcal{Y}$ approximates $f$ is:\n",
    "\n",
    "$$E_{out}(h) = P[h(\\bar{x}) \\neq f(\\bar{x})]$$\n",
    "\n",
    "where $P$ is the probability distribution over $\\mathcal{X}$ that generates examples (i.e. $\\mathcal{D}$).\n",
    "\n",
    "In other words if we pick some $\\bar{x} \\in \\mathcal{X}$ at random (according to the distribution $P$) how likely is it that $f$ and $h$ agree on this instance?\n",
    "\n",
    "This is **out of sample error** and it is the ultimate measure of the quality of a hypothesis. "
   ]
  },
  {
   "cell_type": "markdown",
   "metadata": {
    "collapsed": false
   },
   "source": [
    "### How good a hypothesis is $h$?\n",
    "\n",
    "Unfortunately, it is generally impossible to know $E_{out}(h)$, because we don't know $P$ or $f$.\n",
    "\n",
    "However $\\mathcal{D}$ gives us data about both $f$ and $P$.\n",
    "\n",
    "We assume that the $\\bar{x}$ in $\\mathcal{D}$ were drawn independently according to $P$.\n",
    "\n",
    "And of course in supervised learning $\\mathcal{D}$ also tell us $y = f(\\bar{x})$.\n",
    "\n",
    "The bigger $\\mathcal{D}$ is, the more we know about $f$ and $P$.\n"
   ]
  },
  {
   "cell_type": "markdown",
   "metadata": {
    "collapsed": false
   },
   "source": [
    "### In sample error\n",
    "\n",
    "\n",
    "We use $\\mathcal{D}$ to compute the **in sample error**:\n",
    "\n",
    "$$E_{in}(h) = \\frac{1}{N}\\sum_{n=1}^N [\\![ h(\\bar{x}_n) \\neq f(\\bar{x}_n)]\\!]$$\n",
    "\n",
    "This is just the proportion of $\\mathcal{D}$ for which $h$ says the same thing as $f$.\n",
    "\n",
    "For example if $\\mathcal{D} = \\{(a,0),(b,1),(c,0)\\}$ and $h(a)=h(b)=h(c)=0$, then\n",
    "\n",
    "$$E_{in}(h) = \\frac{1}{3}(0+1+0) = \\frac{1}{3}$$"
   ]
  },
  {
   "cell_type": "code",
   "execution_count": 1,
   "metadata": {
    "collapsed": false
   },
   "outputs": [
    {
     "data": {
      "image/png": "[encoded data removed]",
      "text/plain": [
       "<Figure size 432x288 with 1 Axes>"
      ]
     },
     "execution_count": 1,
     "metadata": {
      "image/png": {
       "height": 277,
       "width": 384
      }
     },
     "output_type": "execute_result"
    }
   ],
   "source": [
    "import mystuff as ms\n",
    "import numpy as np\n",
    "\n",
    "\n",
    "X,y,w = ms.myblobs(N=30)\n",
    "ms.lin_boundary(w,X,y)\n"
   ]
  },
  {
   "cell_type": "code",
   "execution_count": 2,
   "metadata": {
    "collapsed": false
   },
   "outputs": [
    {
     "data": {
      "text/plain": [
       "0.1"
      ]
     },
     "execution_count": 2,
     "metadata": {
     },
     "output_type": "execute_result"
    }
   ],
   "source": [
    "numwrong = np.sum(np.sign(X.dot(w)) != y)\n",
    "numX = X.shape[0]\n",
    "E_in = numwrong/numX\n",
    "E_in"
   ]
  },
  {
   "cell_type": "markdown",
   "metadata": {
    "collapsed": false
   },
   "source": [
    "### $E_{in} \\approx E_{out}$?\n",
    "\n",
    "So, to summarize we know $E_{in}(h)$ but we want to know $E_{out}(h)$.  \n",
    "\n",
    "But measuring $E_{out}(h)$ is generally impossible. \n",
    "\n",
    "But because of probability theory $E_{in}(h)$ and $E_{out}(h)$ must be pretty close.\n",
    "\n",
    "Why is this true?"
   ]
  },
  {
   "cell_type": "code",
   "execution_count": 3,
   "metadata": {
    "collapsed": false
   },
   "outputs": [
    {
     "data": {
      "image/png": "[encoded data removed]",
      "text/plain": [
       "<Figure size 432x288 with 1 Axes>"
      ]
     },
     "execution_count": 3,
     "metadata": {
      "image/png": {
       "height": 277,
       "width": 384
      }
     },
     "output_type": "execute_result"
    }
   ],
   "source": [
    "import numpy as np\n",
    "import mystuff as ms\n",
    "\n",
    "np.random.seed(101)\n",
    "X=np.array([]).reshape(0,3)\n",
    "y=np.array([])\n",
    "w = np.array([1,-2,3])\n",
    "X,y,w = ms.myblobs(N=60,sig_yes=0.7,sig_no=0.7)\n",
    "w=[0.5,7,1]\n",
    "wp = np.linalg.pinv(X).dot(y)\n",
    "ms.compare_boundary(w,wp,X,y)\n",
    "#ms.lin_boundary(wp,X,y)"
   ]
  },
  {
   "cell_type": "markdown",
   "metadata": {
    "collapsed": false
   },
   "source": [
    "### The image above\n",
    "\n",
    "This image shows $h$ vs $f$ for made up data.\n",
    "\n",
    "The boundary with positive slope is $f$.\n",
    "\n",
    "The yellow and purple regions are where $h$ and $f$ disagree.\n",
    "\n",
    "The probability of a dot landing here is $E_{out}(h) = \\mathbb{P}_{\\bar{x}\\in \\mathcal{X}}[h(\\bar{x})\\neq f(\\bar{x})]$\n",
    "\n",
    "The proportion of dots actually in the purple or yellow region is $E_{in}(h)$\n",
    "\n",
    "When $h$ is picked **before** the data it is likely that these values are close."
   ]
  },
  {
   "cell_type": "markdown",
   "metadata": {
    "collapsed": false
   },
   "source": [
    "### You have to urn it\n",
    "\n",
    "Suppose that every $\\bar{x} \\in \\mathcal{X}$ is a ball in an urn.\n",
    "\n",
    "We color the ball green if $h(\\bar{x}) = f(\\bar{x})$ and red if $h(\\bar{x}) \\neq f(\\bar{x})$\n",
    "\n",
    "$E_{out}(h)$ is the probability of pulling a red ball out of the urn. \n",
    "\n",
    "$E_{in}(h)$ is the proportion of red balls you see if you actually pull $N=|\\mathcal{D}|$ of them out and check what you get. \n",
    "\n",
    "The (frequentist) **meaning** of $E_{out}$ is just the limit of $E_{in}$ as $N \\rightarrow \\infty$.\n",
    "\n",
    "So for big $N$ they should be close together.\n",
    "\n"
   ]
  },
  {
   "cell_type": "code",
   "execution_count": 4,
   "metadata": {
    "collapsed": false
   },
   "outputs": [
    {
     "name": "stdout",
     "output_type": "stream",
     "text": [
      "E_in = 0.1\n",
      "E_out = 0.1\n"
     ]
    }
   ],
   "source": [
    "import numpy as np\n",
    "N=1000\n",
    "E_out = 0.1\n",
    "red, green = 1,0\n",
    "D = np.random.choice([red,green],N,p=[E_out,1-E_out])\n",
    "E_in = np.sum(D)/N\n",
    "print(\"E_in = {}\".format(E_in))\n",
    "print(\"E_out = {}\".format(E_out))\n"
   ]
  },
  {
   "cell_type": "markdown",
   "metadata": {
    "collapsed": false
   },
   "source": [
    "### Shoulda woulda coulda\n",
    "\n",
    "We said that $E_{in}(h)$ and $E_{out}(h)$ \"should\" be close in value, and we can see from our little program (above) that they actually are.\n",
    "\n",
    "They **might** differ by a lot if you are super unluckly.\n",
    "\n",
    "But it is very unlikely that you will be extremely unlucky.\n",
    "\n",
    "$E_{in}(h)$ and $E_{out}(h)$ are **probably approximately equal**."
   ]
  },
  {
   "cell_type": "code",
   "execution_count": 5,
   "metadata": {
    "collapsed": false
   },
   "outputs": [
    {
     "data": {
      "image/png": "[encoded data removed]",
      "text/plain": [
       "<Figure size 432x288 with 1 Axes>"
      ]
     },
     "execution_count": 5,
     "metadata": {
      "image/png": {
       "height": 264,
       "width": 369
      }
     },
     "output_type": "execute_result"
    }
   ],
   "source": [
    "N=1000\n",
    "E_out = 0.1\n",
    "red, green = 1,0\n",
    "E_ins = []\n",
    "for tries in range(100000):\n",
    "    D = np.random.choice([red,green],N,p=[E_out,1-E_out])\n",
    "    E_in = np.sum(D)/N\n",
    "    E_ins.append(E_in)\n",
    "\n",
    "import matplotlib.pyplot as plt\n",
    "E_ins = np.array(E_ins)\n",
    "plt.hist(E_ins,bins=50,density=True)\n",
    "plt.title(r\"Empirically $E_{out}$ clusters around $E_{in}$\")\n",
    "plt.show()"
   ]
  },
  {
   "cell_type": "markdown",
   "metadata": {
    "collapsed": false
   },
   "source": [
    "### Probably approximately equal\n",
    "\n",
    "The Hoeffding bound is a mathematical formula that rigorously defines \"probably approximately equal\".\n",
    "\n",
    "It says that, for any $\\epsilon > 0$,\n",
    "\n",
    "$$P[|E_{in}(h)-E_{out}(h)| > \\epsilon] \\leq 2e^{-2\\epsilon^2N}$$\n",
    "\n",
    "In words:  The probability that $E_{in}(h)$ and $E_{out}(h)$ differ by more than a tiny amount $\\epsilon$ decreases exponentially as $N \\rightarrow \\infty$.\n",
    "\n",
    "But for small $\\epsilon$, the term $\\epsilon^2$ will be **really** small and slow down the convergence."
   ]
  },
  {
   "cell_type": "code",
   "execution_count": 6,
   "metadata": {
    "collapsed": false
   },
   "outputs": [
    {
     "data": {
      "image/png": "[encoded data removed]",
      "text/plain": [
       "<Figure size 432x288 with 1 Axes>"
      ]
     },
     "execution_count": 6,
     "metadata": {
      "image/png": {
       "height": 277,
       "width": 385
      }
     },
     "output_type": "execute_result"
    }
   ],
   "source": [
    "import matplotlib.pyplot as plt\n",
    "\n",
    "for N in [10,100,1000,10000]:\n",
    "\n",
    "    epsilon = np.logspace(0,-5)\n",
    "    delta = 2*np.exp(-2*epsilon**2*N)\n",
    "    plt.plot(epsilon,delta,label=\"N={}\".format(N))\n",
    "plt.xlabel(r\"$\\epsilon$\")\n",
    "plt.ylabel(r\"$\\delta$\")\n",
    "plt.legend()\n",
    "x1,x2,y1,y2 = plt.axis()\n",
    "\n",
    "plt.axis((x1,x2,y1,1))\n",
    "plt.title(r\"Confidence as a function of $\\epsilon$\")\n",
    "plt.show()"
   ]
  },
  {
   "cell_type": "markdown",
   "metadata": {
    "collapsed": false
   },
   "source": [
    "### The Graph Above\n",
    "\n",
    "The above graph shows $\\epsilon$ vs the Hoeffding bound on the proportion of samples that have $E_{out}$ and $E_{in}$ more than $\\epsilon$ apart.\n",
    "\n",
    "This also depends on $N$, which is the \"size of the draw\".\n",
    "\n",
    "For small draws you can get unlucky ($E_{out}$ far from $E_{in}$)\n",
    "\n",
    "But this is increasingly unlikely for draws of larger size."
   ]
  },
  {
   "cell_type": "code",
   "execution_count": 7,
   "metadata": {
    "collapsed": false
   },
   "outputs": [
    {
     "data": {
      "image/png": "[encoded data removed]",
      "text/plain": [
       "<Figure size 432x288 with 1 Axes>"
      ]
     },
     "execution_count": 7,
     "metadata": {
      "image/png": {
       "height": 277,
       "width": 392
      }
     },
     "output_type": "execute_result"
    }
   ],
   "source": [
    "for epsilon in [0.1,0.05,0.025,0.01,0.001]:\n",
    "    N = np.logspace(4,12,base=2)\n",
    "    delta = 2*np.exp(-2*epsilon**2*N)\n",
    "    plt.plot(N,delta,label=r\"$\\epsilon= {}$\".format(epsilon))\n",
    "plt.ylabel(r\"$\\delta$\")\n",
    "plt.xlabel(r\"$N$\")\n",
    "plt.legend()\n",
    "plt.title(r\"Confidence as a function of $N$ \")\n",
    "plt.show()"
   ]
  },
  {
   "cell_type": "markdown",
   "metadata": {
    "collapsed": false
   },
   "source": [
    "### The Graph Above\n",
    "\n",
    "This graph shows how the increase of $N$ (the size of the draw) causes the likelihood of a \"bad\" draw to decrease.\n",
    "\n",
    "A \"bad\" draw is one in which $E_{in}$ and $E_{out}$ are far apart.\n",
    "\n",
    "Because \"far\" depends on $\\epsilon$, you get different curves as the notion of \"far\" becomes more and more strict.\n",
    "\n",
    "Notice that for $\\epsilon=0.01$ and $\\epsilon=0.001$ the Hoeffding bound is not really a bound at all until $N$ exceeds 4000.  \n"
   ]
  },
  {
   "cell_type": "code",
   "execution_count": 8,
   "metadata": {
    "collapsed": false
   },
   "outputs": [
    {
     "data": {
      "image/png": "[encoded data removed]",
      "text/plain": [
       "<Figure size 432x288 with 1 Axes>"
      ]
     },
     "execution_count": 8,
     "metadata": {
      "image/png": {
       "height": 264,
       "width": 369
      }
     },
     "output_type": "execute_result"
    }
   ],
   "source": [
    "N=1000\n",
    "E_out = 0.1\n",
    "red, green = 1,0\n",
    "difs = []\n",
    "for tries in range(100000):\n",
    "    D = np.random.choice([red,green],N,p=[E_out,1-E_out])\n",
    "    E_in = np.sum(D)/N\n",
    "    difs.append(np.abs(E_in-E_out))\n",
    "\n",
    "import matplotlib.pyplot as plt\n",
    "difs = np.array(difs)\n",
    "hist=plt.hist(difs,bins=50,density=True)\n",
    "\n",
    "plt.title(r\"The distribution of $E_{out} - E_{in}$ \")\n",
    "plt.show()"
   ]
  },
  {
   "cell_type": "markdown",
   "metadata": {
    "collapsed": false
   },
   "source": [
    "### Hoeffding is \"distribution free\"\n",
    "\n",
    "The amazing thing about the Hoeffding inequality is that the right hand side does not depend on $P$.\n",
    "\n",
    "$$P[|E_{in}(h)-E_{out}(h)| > \\epsilon] \\leq 2e^{-2\\epsilon^2N}$$\n",
    "\n",
    "It is true for *all* $P$, even the worst possible $P$.\n",
    "\n",
    "For that reason, the bound is usally *very* conservative."
   ]
  },
  {
   "cell_type": "code",
   "execution_count": 9,
   "metadata": {
    "collapsed": false
   },
   "outputs": [
    {
     "name": "stdout",
     "output_type": "stream",
     "text": [
      "Difference exceeds epsilon 0.27% of time\n",
      "Hoeffding bound: at most 39.58% of time\n"
     ]
    }
   ],
   "source": [
    "import numpy as np\n",
    "N = 100\n",
    "E_out = 0.1\n",
    "red, green = 1,0\n",
    "\n",
    "results = []\n",
    "numtries = 10000\n",
    "for tries in range(numtries):\n",
    "    D = np.random.choice([red,green],N,p=[E_out,1-E_out])\n",
    "    E_in = np.sum(D)/N\n",
    "    results.append(E_in)\n",
    "\n",
    "E_ins = np.array(results)\n",
    "epsilon = 0.09\n",
    "exceeded = np.abs(E_ins-E_out)>epsilon\n",
    "print(\"Difference exceeds epsilon {}% of time\".format(100*np.mean(exceeded)))\n",
    "print(\"Hoeffding bound: at most {0:.2f}% of time\".format(200*np.exp(-2*epsilon**2*N)))"
   ]
  },
  {
   "cell_type": "markdown",
   "metadata": {
    "collapsed": false
   },
   "source": [
    "### So what have we learned?\n",
    "\n",
    "We have learned that in the special case $\\mathcal{H} = \\{h\\}$\n",
    "\n",
    "if $\\mathcal{D}$ is large\n",
    "\n",
    "and\n",
    "\n",
    "**if** $E_{in}(h)$ is small\n",
    "\n",
    "Then $E_{out}(h)$ is *probably* also small, \n",
    "\n",
    "and therefore when we see a new instance $\\bar{x} \\in \\mathcal{X}$ it is likely that\n",
    "\n",
    "$h(\\bar{x}) = f(\\bar{x})$.\n"
   ]
  },
  {
   "cell_type": "markdown",
   "metadata": {
    "collapsed": false
   },
   "source": [
    "### BUT\n",
    "\n",
    "We have learned that in the special case $\\mathcal{H} = \\{h\\}$\n",
    "\n",
    "if $\\mathcal{D}$ is large\n",
    "\n",
    "and\n",
    "\n",
    "if $E_{in}(h)$ is **large**\n",
    "\n",
    "Then $E_{out}(h)$ is *probably* also **large**, \n",
    "\n",
    "and therefore when we see a new instance $\\bar{x} \\in \\mathcal{X}$ it **not likely** that\n",
    "\n",
    "$h(\\bar{x}) = f(\\bar{x})$.\n"
   ]
  },
  {
   "cell_type": "markdown",
   "metadata": {
    "collapsed": false
   },
   "source": [
    "### So what have we learned?\n",
    "\n",
    "If $E_{in}(h)$ is not small then there's really not much we can do with $h$.\n",
    "\n",
    "And if $\\mathcal{H}$ only has one hypothesis in it, we would really be pretty lucky if it were any good.\n",
    "\n",
    "What we need is some guarantee that \n",
    "\n",
    "if $\\mathcal{H}$ is big\n",
    "\n",
    "and we take the $g \\in \\mathcal{H}$ for which $E_{in}$ **is least**\n",
    "\n",
    "$$g = argmin_{h \\in \\mathcal{H}}E_{in}(h)$$\n",
    "\n",
    "then $E_{in}(g)$ is *still* close to $E_{out}(g)$"
   ]
  },
  {
   "cell_type": "markdown",
   "metadata": {
    "collapsed": false
   },
   "source": [
    "### Too much!\n",
    "\n",
    "But that's too much to ask for **when $\\mathcal{H}$ can be anything**.  \n",
    "\n",
    "Because if $\\mathcal{H}$ is big enough then any function is in there.\n",
    "\n",
    "There may be the function $h$ that behaves just like $f$ on $\\mathcal{D}$ but just the opposite of $f$ for examples not in $\\mathcal{D}$.\n",
    "\n",
    "Then $E_{in}(h) = 0$ but $E_{out}(h)=1$!\n",
    "\n",
    "In other words $E_{in}$ and $E_{out}$ are as far apart as possible.\n",
    "\n",
    "This tells us that we must consider only a special kind of \"nice\" $\\mathcal{H}$ (described in Ch 2).\n",
    "\n",
    "Finiteness is a special kind of \"niceness\"\n",
    "\n",
    "Let's consider what happens when $\\mathcal{H}$ is finite."
   ]
  },
  {
   "cell_type": "markdown",
   "metadata": {
    "collapsed": false
   },
   "source": [
    "### $\\mathcal{H} = \\{h_1,h_2,\\ldots,h_m\\}$\n",
    "\n",
    "Consider a hypothesis class $\\mathcal{H}$ with $m$ hypotheses.\n",
    "\n",
    "Each $h_i$ has an out of sample error rate $E_{out}(h_i)$.\n",
    "\n",
    "Each $h_i$ also has an in sample error rate $E_{in}(h_i)$.\n",
    "\n",
    "If $\\mathcal{H}$ is big compared to $\\mathcal{D}$, then through luck one of the $h_i$ may have $E_{in}(h_i)$ freakishly small, while\n",
    "\n",
    "$E_{in}(h_i) \\not \\approx E_{out}(h_i)$.\n",
    "\n",
    "We might naively **think** that this hypothesis is best, because it does best on $\\mathcal{D}$.\n",
    "\n",
    "But really the performance on $\\mathcal{D}$ was a fluke."
   ]
  },
  {
   "cell_type": "markdown",
   "metadata": {
    "collapsed": false
   },
   "source": [
    "### Luck vs skill  $(E_{in} vs E_{out}?)$\n",
    "\n",
    "Entities that are exceptional are exceptional for two reasons: luck and skill.\n",
    "\n",
    "Skill persists but luck does not.  \n",
    "\n",
    "Consider 100 people, each of whom flip a fair coin ten times.\n",
    "\n",
    "We simulate this below.  Each column is a \"person\".\n",
    "\n",
    "The row corresponding to a person is their flipping record.\n"
   ]
  },
  {
   "cell_type": "code",
   "execution_count": 10,
   "metadata": {
    "collapsed": false
   },
   "outputs": [
    {
     "data": {
      "text/plain": [
       "array([0.4, 0.1, 0.6, 0.5, 0.3, 0.4, 0.6, 0.5, 0.7, 0.4, 0.5, 0.6, 0.5,\n",
       "       0.5, 0.4, 0.6, 0.7, 0.5, 0.2, 0.6, 0.5, 0.3, 0.5, 0.5, 0.3, 0.4,\n",
       "       0.4, 0.2, 0.8, 0.5, 0.5, 0.7, 0.4, 0.6, 0.5, 0.6, 0.3, 0.4, 0.7,\n",
       "       0.6, 0.6, 0.4, 0.5, 0.6, 0.5, 0.5, 0.4, 0.4, 0.2, 0.4, 0.6, 0.6,\n",
       "       0.7, 0.6, 0.4, 0.3, 0.3, 0.6, 0.5, 0.4, 0.9, 0.4, 0.6, 0.6, 0.6,\n",
       "       0.4, 0.5, 0.8, 0.8, 0.5, 0.5, 0.3, 0.6, 0.5, 0.5, 0.4, 0.5, 0.7,\n",
       "       0.8, 0.7, 0.4, 0.6, 0.5, 0.4, 0.5, 0.6, 0.6, 0.5, 0.6, 0.7, 0.3,\n",
       "       0.4, 0.4, 0.5, 0.5, 0.3, 0.6, 0.2, 0.6, 0.3])"
      ]
     },
     "execution_count": 10,
     "metadata": {
     },
     "output_type": "execute_result"
    }
   ],
   "source": [
    "import numpy as np\n",
    "## |D|=10, |H|=100\n",
    "flips = np.random.randint(0,2,100*10).reshape(10,100)\n",
    "\n",
    "mu = np.mean(flips,axis=0)\n",
    "mu"
   ]
  },
  {
   "cell_type": "code",
   "execution_count": 11,
   "metadata": {
    "collapsed": false
   },
   "outputs": [
    {
     "data": {
      "text/plain": [
       "(60, 0.9)"
      ]
     },
     "execution_count": 11,
     "metadata": {
     },
     "output_type": "execute_result"
    }
   ],
   "source": [
    "best_person = np.argmax(mu)\n",
    "best_person, mu[best_person]"
   ]
  },
  {
   "cell_type": "markdown",
   "metadata": {
    "collapsed": false
   },
   "source": [
    "### Wow, what a performance!\n",
    "\n",
    "Someone has a real tendency to flip heads.\n",
    "\n",
    "Or do they?\n",
    "\n",
    "Do you think their luck will hold up in ten more flips?\n"
   ]
  },
  {
   "cell_type": "code",
   "execution_count": 12,
   "metadata": {
    "collapsed": false
   },
   "outputs": [
    {
     "data": {
      "text/plain": [
       "0.6"
      ]
     },
     "execution_count": 12,
     "metadata": {
     },
     "output_type": "execute_result"
    }
   ],
   "source": [
    "flips = np.random.randint(0,2,100*10).reshape(10,100)\n",
    "mu = np.mean(flips,axis=0)\n",
    "mu[best_person]"
   ]
  },
  {
   "cell_type": "markdown",
   "metadata": {
    "collapsed": false
   },
   "source": [
    "### Uh oh, must have been the pressure?\n",
    "\n",
    "Obviously the ability to flip heads does not persist.\n",
    "\n",
    "The best person's performance was all luck and no skill.\n",
    "\n",
    "When we tested the person on fresh data the luck vanished and only the skill remained.\n",
    "\n",
    "With only skill and no luck to rely on, performance decreased.\n",
    "\n",
    "This is called **regression to the mean**.\n",
    "\n",
    "We have to be very careful about this in ML when evaluating model performance (and in life too).\n",
    "\n",
    "You want the best model, not the luckiest one."
   ]
  },
  {
   "cell_type": "markdown",
   "metadata": {
    "collapsed": false
   },
   "source": [
    "### Hoeffding?\n",
    "\n",
    "If we pick the best $g \\in \\mathcal{H}$ with respect to $E_{in}$ then the Hoeffding bound does not apply.  \n",
    "\n",
    "To show this you could check the percentage of time that the best of 1000 coin flippers (in 100 flips) has a sample average different from 0.5 by more than $\\epsilon = 0.1$.\n",
    "\n",
    "We compute the Hoeffding bound below. \n",
    "\n",
    "After that we perform an experiment to see how often epsilon is actually exceeded by the best flipper."
   ]
  },
  {
   "cell_type": "code",
   "execution_count": 13,
   "metadata": {
    "collapsed": false
   },
   "outputs": [
    {
     "name": "stdout",
     "output_type": "stream",
     "text": [
      "If Hoeffding holds for the best flipper,\n",
      " then the difference between E_in and E_out \n",
      " will exceed epsilon at most 27.07% of the time\n"
     ]
    }
   ],
   "source": [
    "answer=2*np.exp(-2*0.1**2*100)\n",
    "print(\"If Hoeffding holds for the best flipper,\\n then the difference between E_in and E_out \\n will exceed epsilon at most {:0.2f}% of the time\".format(100*answer))"
   ]
  },
  {
   "cell_type": "code",
   "execution_count": 14,
   "metadata": {
    "collapsed": false
   },
   "outputs": [
    {
     "name": "stdout",
     "output_type": "stream",
     "text": [
      "The difference exceeded epsilon 100.00% of the time\n"
     ]
    }
   ],
   "source": [
    "num_experiments = 10**4\n",
    "epsilon=0.1\n",
    "epsilon_exceeded = 0\n",
    "for i in range(num_experiments):\n",
    "    flips = np.random.randint(0,2,100*1000).reshape(100,1000)\n",
    "    mu = np.mean(flips,axis=0)\n",
    "    best_person = np.argmax(mu)\n",
    "    best_record = np.max(mu)\n",
    "    diff = np.abs(best_record-0.5)\n",
    "    if diff > epsilon:\n",
    "        epsilon_exceeded +=1\n",
    "answer = epsilon_exceeded/num_experiments                \n",
    "print(\"The difference exceeded epsilon {:0.2f}% of the time\".format(100*answer))        \n"
   ]
  },
  {
   "cell_type": "markdown",
   "metadata": {
    "collapsed": false
   },
   "source": [
    "### A crude bound\n",
    "\n",
    "We **can** come up with a Hoeffding like bound assuming that $\\mathcal{H}$ contains $M$ hypotheses. \n",
    "\n",
    "Because the probability that the **best** $g$ has $E_{in}$ within $\\epsilon$ of $E_{out}$\n",
    "\n",
    "is at most the probability that **some** $h$ has $E_{in}$ within $\\epsilon$ of $E_{out}$.\n",
    "\n",
    "$$P[|E_{in}(g)-E_{out}(g)| > \\epsilon] \\leq \\sum_{h \\in \\mathcal{H}} P[|E_{in}(h)-E_{out}(h)| > \\epsilon]$$\n",
    "\n",
    "But Hoeffding **does** apply to each summand in RHS because each $h$ was picked before $\\mathcal{D}$.  Thus\n",
    "\n",
    "$$P[|E_{in}(g)-E_{out}(g)|>\\epsilon] \\leq 2Me^{-2\\epsilon^2N}$$\n"
   ]
  },
  {
   "cell_type": "markdown",
   "metadata": {
    "collapsed": false
   },
   "source": [
    "### But are we happy with that?\n",
    "\n",
    "We are not very happy with the bound \n",
    "\n",
    "$$P[|E_{in}(g)-E_{out}(g)|>\\epsilon] \\leq 2Me^{-2\\epsilon^2N}$$\n",
    "\n",
    "because $\\mathcal{H}$ is often very large, or even infinite.\n",
    "\n",
    "The perceptron, for example, has an infinite hypothesis class.\n",
    "\n",
    "This bound was improved in the 70's by Vapnik and Chervonenkis to apply\n",
    "\n",
    "to some infinite $\\mathcal{H}$.\n",
    "\n",
    "The ones with finite VC dimension (see Ch 2).\n"
   ]
  },
  {
   "cell_type": "markdown",
   "metadata": {
    "collapsed": false
   },
   "source": [
    "### However\n",
    "\n",
    "However, the bound \n",
    "\n",
    "$$P[|E_{in}(g)-E_{out}(g)|>\\epsilon] \\leq 2Me^{-2\\epsilon^2N}$$\n",
    "\n",
    "has in many ways answered our original question about *how* learning can be possible.\n",
    "\n",
    "It says that if you have any finite $\\mathcal{H}$ and enough data, then indeed $E_{in}(g) \\approx E_{out}(g)$.\n",
    "\n",
    "This is because $e^{-2\\epsilon^2N}$ eventually dominates $M$ and makes the RHS tend to zero as $N \\rightarrow \\infty$.\n",
    "\n",
    "**If** you can **also** make $E_{in}(g)$ low with this $\\mathcal{H}$, then you have succeeded in learning $f$.\n"
   ]
  },
  {
   "cell_type": "markdown",
   "metadata": {
    "collapsed": false
   },
   "source": [
    "### The central dilemma...\n",
    "\n",
    "This brings us to the main dilemma in machine learning...\n",
    "\n",
    "1. If you make $\\mathcal{H}$ complex enough relative to $f$, you can make $E_{in}(g)$ low.\n",
    "2. But the more complex you make $\\mathcal{H}$, the bigger $\\mathcal{D}$ must be to ensure $E_{out}(g) \\approx E_{in}(g)$.\n",
    "\n",
    "You should pick the most complex $\\mathcal{H}$ you can \"afford\" given the size of your training data.\n",
    "\n",
    "If you make $\\mathcal{H}$ too complex for the data then you will get the luckiest hypothesis, not the best.\n",
    "\n",
    "This is called **overfitting**."
   ]
  },
  {
   "cell_type": "markdown",
   "metadata": {
    "collapsed": false
   },
   "source": [
    "### Training, Testing (and Validation)\n",
    "\n",
    "One way to help prevent overfitting is to partition the data into a training set and a testing set.\n",
    "\n",
    "$$\\mathcal{D} = \\mathcal{D}_{train} \\cup \\mathcal{D}_{test}$$\n",
    "\n",
    "Usually the training set is about 80-85% of the data, and the testing set is 20-15% of the data.\n",
    "\n",
    "It is important that this partition be random.\n",
    "\n",
    "In numpy you might randomly shuffle the rows of $X$ before taking the first 80% of rows to be $\\mathcal{D}_{train}$.\n"
   ]
  },
  {
   "cell_type": "code",
   "execution_count": 15,
   "metadata": {
    "collapsed": false
   },
   "outputs": [
    {
     "name": "stdout",
     "output_type": "stream",
     "text": [
      "The shape of X is (8, 3)\n",
      "X before shuffle: \n",
      "[[ 0  1  2]\n",
      " [ 3  4  5]\n",
      " [ 6  7  8]\n",
      " [ 9 10 11]\n",
      " [12 13 14]\n",
      " [15 16 17]\n",
      " [18 19 20]\n",
      " [21 22 23]]\n",
      "X after shuffle: \n",
      "[[12 13 14]\n",
      " [ 9 10 11]\n",
      " [ 0  1  2]\n",
      " [15 16 17]\n",
      " [18 19 20]\n",
      " [ 6  7  8]\n",
      " [21 22 23]\n",
      " [ 3  4  5]]\n",
      "X_train is \n",
      "[[12 13 14]\n",
      " [ 9 10 11]\n",
      " [ 0  1  2]\n",
      " [15 16 17]\n",
      " [18 19 20]\n",
      " [ 6  7  8]]\n",
      "X_test is \n",
      "[[21 22 23]\n",
      " [ 3  4  5]]\n"
     ]
    }
   ],
   "source": [
    "import numpy as np\n",
    "\n",
    "X = np.arange(8*3).reshape(8,3)\n",
    "print(\"The shape of X is {}\".format(X.shape))\n",
    "print(\"X before shuffle: \\n{}\".format(X))\n",
    "s=np.random.shuffle(X)\n",
    "print(\"X after shuffle: \\n{}\".format(X))\n",
    "cutoff = int(0.8*X.shape[0])\n",
    "X_train = X[:cutoff,:]\n",
    "print(\"X_train is \\n{}\".format(X_train))\n",
    "X_test = X[cutoff:,:]\n",
    "print(\"X_test is \\n{}\".format(X_test))\n"
   ]
  },
  {
   "cell_type": "markdown",
   "metadata": {
    "collapsed": false
   },
   "source": [
    "### What about $y$?\n",
    "\n",
    "But when you shuffle $X$ you want to apply the same permutation to $y$ so that the outputs and inputs continue to match up.\n",
    "\n",
    "If $y$ has not yet been selected out from $X$ you can use the above method.\n",
    "\n",
    "If $y$ is given separately then you can do something like the code below.\n",
    "\n",
    "This uses `np.random.choice` to choose random rows for the training/test partition.\n"
   ]
  },
  {
   "cell_type": "code",
   "execution_count": 16,
   "metadata": {
    "collapsed": false
   },
   "outputs": [
    {
     "name": "stdout",
     "output_type": "stream",
     "text": [
      "y = \n",
      "[1 0 1 1 0 0 1 0]\n",
      "row choices = [4 7 5 3 1 2]\n",
      "non choices = [0 6]\n"
     ]
    }
   ],
   "source": [
    "y = np.random.choice([0,1],X.shape[0])\n",
    "print(\"y = \\n{}\".format(y))\n",
    "choices = np.random.choice(np.arange(X.shape[0]),cutoff,replace=False)\n",
    "print(\"row choices = {}\".format(choices))\n",
    "nonchoices = np.array(list(set(np.arange(X.shape[0])).difference(set(choices))))\n",
    "print(\"non choices = {}\".format(nonchoices))"
   ]
  },
  {
   "cell_type": "code",
   "execution_count": 17,
   "metadata": {
    "collapsed": false
   },
   "outputs": [
    {
     "name": "stdout",
     "output_type": "stream",
     "text": [
      "X_train = \n",
      "[[18 19 20]\n",
      " [ 3  4  5]\n",
      " [ 6  7  8]\n",
      " [15 16 17]\n",
      " [ 9 10 11]\n",
      " [ 0  1  2]]\n",
      "y_train = \n",
      "[0 0 0 1 0 1]\n",
      "X_test = \n",
      "[[12 13 14]\n",
      " [21 22 23]]\n",
      "y_test = \n",
      "[1 1]\n"
     ]
    }
   ],
   "source": [
    "X_train = X[choices]\n",
    "y_train = y[choices]\n",
    "X_test = X[nonchoices]\n",
    "y_test = y[nonchoices]\n",
    "\n",
    "print(\"X_train = \\n{}\".format(X_train))\n",
    "print(\"y_train = \\n{}\".format(y_train))\n",
    "print(\"X_test = \\n{}\".format(X_test))\n",
    "print(\"y_test = \\n{}\".format(y_test))"
   ]
  },
  {
   "cell_type": "markdown",
   "metadata": {
    "collapsed": false
   },
   "source": [
    "### Why reserve a testing set?\n",
    "\n",
    "We saw above that a finite $\\mathcal{H}$ will have $E_{in}(g) \\approx E_{out}(g)$ for very large $N=|\\mathcal{D}|$.\n",
    "\n",
    "So why use a test set?  \n",
    "\n",
    "The basic reason is that $g = argmin_{h \\in \\mathcal{H}}E_{in}(h)$ can be chosen based only on the training data.  \n",
    "\n",
    "Then $g$ is chosen without looking at the testing data.  \n",
    "\n",
    "This means that the original Hoeffding bound (not the union bound) will apply to $g$ on the test set\n",
    "\n",
    "Therefore $E_{in}^{test}(g)$ (the in-sample error of $g$ on the test set) is likely to be close to $E_{out}(g)$, provided the test set is big enough.\n",
    "\n",
    "This is true even when $\\mathcal{H}$ is infinite!\n",
    "\n",
    "The in-sample error of $g$ on the test set is the best measure we have of how \"good\" $g$ really is.\n",
    "\n"
   ]
  },
  {
   "cell_type": "code",
   "execution_count": 0,
   "metadata": {
    "collapsed": false
   },
   "outputs": [
   ],
   "source": [
   ]
  }
 ],
 "metadata": {
  "kernelspec": {
   "display_name": "Python 3 (system-wide)",
   "language": "python",
   "metadata": {
    "cocalc": {
     "description": "Python 3 programming language",
     "priority": 100,
     "url": "https://www.python.org/"
    }
   },
   "name": "python3"
  },
  "language_info": {
   "codemirror_mode": {
    "name": "ipython",
    "version": 3
   },
   "file_extension": ".py",
   "mimetype": "text/x-python",
   "name": "python",
   "nbconvert_exporter": "python",
   "pygments_lexer": "ipython3",
   "version": "3.6.9"
  }
 },
 "nbformat": 4,
 "nbformat_minor": 0
}